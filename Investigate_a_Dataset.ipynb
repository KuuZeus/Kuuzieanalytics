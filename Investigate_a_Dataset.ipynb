{
 "cells": [
  {
   "cell_type": "markdown",
   "metadata": {},
   "source": [
    "\n",
    "\n",
    "# Project: Analysis of the no-show appointment dataset\n",
    "\n",
    "## Table of Contents\n",
    "<ul>\n",
    "<li><a href=\"#intro\">Introduction</a></li>\n",
    "<li><a href=\"#wrangling\">Data Wrangling</a></li>\n",
    "<li><a href=\"#eda\">Exploratory Data Analysis</a></li>\n",
    "<li><a href=\"#conclusions\">Conclusions</a></li>\n",
    "</ul>"
   ]
  },
  {
   "cell_type": "markdown",
   "metadata": {},
   "source": [
    "<a id='intro'></a>\n",
    "## Introduction\n",
    "\n",
    "### Dataset Description \n",
    ">This dataset is a collection of 110K medical appointments in the Brazil, the data is collected with the aim to determine if it is possible to predict if a patient will honor his or her scheduled medical appointment. \n",
    "This dataset contains 13 unique features and 1 target, in total there 14 columns.\n",
    "##### Description of the features of the dataset\n",
    ">1. *Patientid*: this is a unique key that identifies every patient \n",
    "2. **AppointmentID**: this is a unique key that identifies each seperate appiontment a patient makes \n",
    "3. **Gender**: This column describes the sex of the patient as Female (F) or Male (M)\n",
    "4. **ScheduledDay**: The day the patient is required to honor the appointment\n",
    "5. **AppointmentDay**: This is the day the patient books the appointment, either via call or in-person. The appointmentDay by must be earlier than the ScheduledDay for obvious reasons.\n",
    "6. **Age**: How old the is patient in years\n",
    "7. **Neighbourhood**: This identifies the center where the medical appointment is scheduled to take place (location of the hospital)\n",
    "8. **Scholarship**: This columun identifies whether a patient is a beneficiary of the Brazilian family allowance . For more in depth description of this social welfare system.[Bolsa Familia](https://en.wikipedia.org/wiki/Bolsa_Fam%C3%ADlia)\n",
    "9. **Hipertension**: True or False if a patient has hypertension\n",
    "10. **Diabetes**: True or False if a patient has diabetes\n",
    "11. **Alcoholism**: True or False if the patient is an Alcoholic\n",
    "12. **Handcap**: True or False if a patient is handicap\n",
    "13. **SMS_received**: This column determines if a patient received 1 or more sms message to remind them of their appointment\n",
    "14. **No-Show**: This column, which is the target, determines if a patient did not show up for the appointment, if it is true it means patient did not honor their appointment, if false it means patient honored their scheduled appointment.\n",
    "\n",
    "\n",
    "\n",
    "### Questions for Analysis\n",
    "1. Does having a chronic medical condition (hypertension or diabetes) makes a patient more likely to honor a medical appointment ?\n",
    "2. Are older patients more likely to default a scheduled medical appointment compared to their younger counterparts ?\n",
    "3. Does receiving an sms reminder makes a patient more likely to honor a medical appointment ?\n",
    "4. How does been on the scholarship influence patients' appointment attendance ?\n",
    " "
   ]
  },
  {
   "cell_type": "markdown",
   "metadata": {},
   "source": [
    "### Importing all the important libraries/packages for the project"
   ]
  },
  {
   "cell_type": "code",
   "execution_count": 1,
   "metadata": {},
   "outputs": [],
   "source": [
    "# Use this cell to set up import statements for all of the packages that you\n",
    "#   plan to use.\n",
    "import pandas as pd\n",
    "import numpy as np\n",
    "import matplotlib.pyplot as plt\n",
    "import seaborn as sns\n",
    "%matplotlib inline\n",
    "\n",
    "# Remember to include a 'magic word' so that your visualizations are plotted\n",
    "#   inline with the notebook. See this page for more:\n",
    "#   http://ipython.readthedocs.io/en/stable/interactive/magics.html\n"
   ]
  },
  {
   "cell_type": "code",
   "execution_count": 2,
   "metadata": {},
   "outputs": [],
   "source": [
    "# Upgrade pandas to use dataframe.explode() function. \n",
    "# !pip install --upgrade pandas==0.25.0"
   ]
  },
  {
   "cell_type": "markdown",
   "metadata": {},
   "source": [
    "<a id='wrangling'></a>\n",
    "## Data Wrangling\n",
    "\n"
   ]
  },
  {
   "cell_type": "markdown",
   "metadata": {},
   "source": [
    "#### Loading the dataset into a pandas dataframe (df)"
   ]
  },
  {
   "cell_type": "code",
   "execution_count": 3,
   "metadata": {},
   "outputs": [],
   "source": [
    "# Loading the dataset into a dataframe using pandas.\n",
    "df=pd.read_csv(\"Database_No_show_appointments/noshowappointments-kagglev2-may-2016.csv\")\n",
    "# df.info()"
   ]
  },
  {
   "cell_type": "markdown",
   "metadata": {},
   "source": [
    "\n",
    "### Data Cleaning\n",
    " "
   ]
  },
  {
   "cell_type": "markdown",
   "metadata": {},
   "source": [
    "__From the inspection the dataset from above, there are some obvious errors that needs to be rectified__.\n",
    "\n",
    "1. ScheduledDay and AppointmentDay needs to be converted to Datetime series instead of objects\n",
    "2. Hipertension spelling corrected to *_Hypertension_*\n",
    "3. Appointment ID and Patientid columns will be dropped as these unique to each patient will does not serve any purpose in answering of the questions posted above.\n",
    "4. Column *No-Show*, will be coded into numerical values, and the \"-\" converted to \"_\"\n",
    "5. Columns names will be converted to lowercase for uniformity\n"
   ]
  },
  {
   "cell_type": "markdown",
   "metadata": {},
   "source": [
    "#### Dropping the redundant unique IDs columns (PatientId and AppointmentID)"
   ]
  },
  {
   "cell_type": "code",
   "execution_count": 4,
   "metadata": {},
   "outputs": [],
   "source": [
    "\n",
    "df.drop(columns=[\"PatientId\",\"AppointmentID\"], inplace=True)\n"
   ]
  },
  {
   "cell_type": "markdown",
   "metadata": {},
   "source": [
    "#### Converting ScheduledDay and AppointmentDay into datatime series"
   ]
  },
  {
   "cell_type": "code",
   "execution_count": 5,
   "metadata": {},
   "outputs": [],
   "source": [
    "df[\"ScheduledDay\"]=pd.to_datetime(df[\"ScheduledDay\"])\n",
    "df[\"AppointmentDay\"]=pd.to_datetime(df[\"AppointmentDay\"])"
   ]
  },
  {
   "cell_type": "markdown",
   "metadata": {},
   "source": [
    "####  Correcting the spelling of hipertension"
   ]
  },
  {
   "cell_type": "code",
   "execution_count": 6,
   "metadata": {},
   "outputs": [],
   "source": [
    "df.rename(columns={\"Hipertension\":\"Hypertension\"}, inplace =True)"
   ]
  },
  {
   "cell_type": "markdown",
   "metadata": {},
   "source": [
    "#### Coding the target column, No-Show. There two possible response for this column, Yes means the patient did not honor their appointment, No means the patient honored their appointment.\n",
    "###### So all Yes -0 and No -1"
   ]
  },
  {
   "cell_type": "code",
   "execution_count": 7,
   "metadata": {},
   "outputs": [],
   "source": [
    "df=df.replace(to_replace=['Yes','No'],value=['0','1'])"
   ]
  },
  {
   "cell_type": "markdown",
   "metadata": {},
   "source": [
    "#### Rename the column No-show to No_show"
   ]
  },
  {
   "cell_type": "code",
   "execution_count": 8,
   "metadata": {},
   "outputs": [],
   "source": [
    "df.rename(columns={\"No-show\":\"No_show\"}, inplace=True)"
   ]
  },
  {
   "cell_type": "code",
   "execution_count": 9,
   "metadata": {},
   "outputs": [
    {
     "data": {
      "text/plain": [
       "Index(['Gender', 'ScheduledDay', 'AppointmentDay', 'Age', 'Neighbourhood',\n",
       "       'Scholarship', 'Hypertension', 'Diabetes', 'Alcoholism', 'Handcap',\n",
       "       'SMS_received', 'No_show'],\n",
       "      dtype='object')"
      ]
     },
     "execution_count": 9,
     "metadata": {},
     "output_type": "execute_result"
    }
   ],
   "source": [
    "df.columns"
   ]
  },
  {
   "cell_type": "markdown",
   "metadata": {},
   "source": [
    "#### For the purpose of uniformity all columns names will be changed to lowercase"
   ]
  },
  {
   "cell_type": "code",
   "execution_count": 10,
   "metadata": {},
   "outputs": [],
   "source": [
    "df.rename(columns=lambda x: x.strip().lower(), inplace=True)\n"
   ]
  },
  {
   "cell_type": "code",
   "execution_count": 11,
   "metadata": {},
   "outputs": [
    {
     "data": {
      "text/plain": [
       "Index(['gender', 'scheduledday', 'appointmentday', 'age', 'neighbourhood',\n",
       "       'scholarship', 'hypertension', 'diabetes', 'alcoholism', 'handcap',\n",
       "       'sms_received', 'no_show'],\n",
       "      dtype='object')"
      ]
     },
     "execution_count": 11,
     "metadata": {},
     "output_type": "execute_result"
    }
   ],
   "source": [
    "df.columns\n"
   ]
  },
  {
   "cell_type": "markdown",
   "metadata": {},
   "source": [
    "<a id='eda'></a>\n",
    "## Exploratory Data Analysis\n",
    "\n",
    "### Research Question 1 (Does having a chronic medical condition (hypertension or diabetes) makes a patient more likely to honor a medical appointment ?)"
   ]
  },
  {
   "cell_type": "markdown",
   "metadata": {
    "collapsed": true
   },
   "source": [
    "#### I will be using the relative risk or risk ration (RR) to compare the likely of a patient with any of the above mentioned chronic medical conditions honoring their appointments with patients without any of the conditions honoring their appointment. \n",
    "#### This is because the features of the data contain categorical which are coded into binary data (0 &1), and therefore using other measures such as mean, median etc will give meaningless results.\n"
   ]
  },
  {
   "cell_type": "markdown",
   "metadata": {},
   "source": [
    "#### **Using the groupby function to aggregate patients base on whether they are hypertensive or not**.\n",
    "#### **The no_show column then subsetted to determine whether they honored their appointment**"
   ]
  },
  {
   "cell_type": "markdown",
   "metadata": {},
   "source": [
    "#### Determining the proportion of patients that are hypertensive"
   ]
  },
  {
   "cell_type": "code",
   "execution_count": 22,
   "metadata": {},
   "outputs": [
    {
     "data": {
      "image/png": "[encoded data removed]",
      "text/plain": [
       "<matplotlib.figure.Figure at 0x7f73bff4b940>"
      ]
     },
     "metadata": {
      "needs_background": "light"
     },
     "output_type": "display_data"
    }
   ],
   "source": [
    "ax=df[\"hypertension\"].plot( kind='hist',title='The number of patients who are hypertensives')\n",
    "ax.set(xlabel=\"Category of patient\")\n",
    "ax.set(ylabel=\"Number of patient\")\n",
    "plt.show();\n"
   ]
  },
  {
   "cell_type": "markdown",
   "metadata": {},
   "source": [
    "#### From the barchart above it shows that most of patients are not hypertensive (0) . The number of hypertensives slightly over 2000 compared to the non-hypertensives who are close to 90,000."
   ]
  },
  {
   "cell_type": "markdown",
   "metadata": {},
   "source": [
    "#### Determining the proportion of patients who are diabetic"
   ]
  },
  {
   "cell_type": "code",
   "execution_count": 23,
   "metadata": {},
   "outputs": [
    {
     "data": {
      "image/png": "[encoded data removed]",
      "text/plain": [
       "<matplotlib.figure.Figure at 0x7f73bfc147b8>"
      ]
     },
     "metadata": {
      "needs_background": "light"
     },
     "output_type": "display_data"
    }
   ],
   "source": [
    "ax=df[\"diabetes\"].plot(kind='hist', title='The number of patients who are diabetic')\n",
    "ax.set(xlabel=\"Category of patient\")\n",
    "ax.set(ylabel=\"Number of patient\")\n",
    "plt.show();"
   ]
  },
  {
   "cell_type": "markdown",
   "metadata": {},
   "source": [
    "#### The bar chart shows a staggering number of non-diabetics compared to diabetics in patient population"
   ]
  },
  {
   "cell_type": "code",
   "execution_count": 25,
   "metadata": {},
   "outputs": [
    {
     "data": {
      "image/png": "[encoded data removed]",
      "text/plain": [
       "<matplotlib.figure.Figure at 0x7f73bfb4f0f0>"
      ]
     },
     "metadata": {
      "needs_background": "light"
     },
     "output_type": "display_data"
    }
   ],
   "source": [
    "ax=df[\"age\"].plot(kind='hist', title='Distribution of the age patients')\n",
    "ax.set(xlabel=\"Age of patient\")\n",
    "ax.set(ylabel=\"Number of patient\")\n",
    "plt.show();"
   ]
  },
  {
   "cell_type": "markdown",
   "metadata": {},
   "source": [
    "#### The histogram shows that there are relatively more younger patients, as evidenced by the left skewedness of the histogram. "
   ]
  },
  {
   "cell_type": "code",
   "execution_count": null,
   "metadata": {},
   "outputs": [],
   "source": []
  },
  {
   "cell_type": "code",
   "execution_count": 12,
   "metadata": {},
   "outputs": [
    {
     "data": {
      "text/plain": [
       "hypertension  no_show\n",
       "0             1          70179\n",
       "              0          18547\n",
       "1             1          18029\n",
       "              0           3772\n",
       "Name: no_show, dtype: int64"
      ]
     },
     "execution_count": 12,
     "metadata": {},
     "output_type": "execute_result"
    }
   ],
   "source": [
    "df_hyp=(df.groupby(\"hypertension\")[\"no_show\"].value_counts())\n",
    "df_hyp\n"
   ]
  },
  {
   "cell_type": "markdown",
   "metadata": {},
   "source": [
    "### The cell below will generate a list of the number patients in each of the four  unique categories\n",
    "1. First item will be showed and non-hypertensive\n",
    "2. Second item will be no_show  and non-hypertenive\n",
    "3. Third item will be showed and hypertenive\n",
    "4. Fouth item will be no_show and hypertenive"
   ]
  },
  {
   "cell_type": "code",
   "execution_count": 12,
   "metadata": {},
   "outputs": [
    {
     "data": {
      "text/plain": [
       "array([70179, 18547, 18029,  3772])"
      ]
     },
     "execution_count": 12,
     "metadata": {},
     "output_type": "execute_result"
    }
   ],
   "source": [
    "prop_h=(df.groupby(\"hypertension\")[\"no_show\"].value_counts()).unique()\n",
    "prop_h"
   ]
  },
  {
   "cell_type": "code",
   "execution_count": 13,
   "metadata": {},
   "outputs": [],
   "source": [
    "show=[70179, 18029]\n",
    "no_show=[18547, 3772]"
   ]
  },
  {
   "cell_type": "markdown",
   "metadata": {},
   "source": [
    "### Plotting a stacked bar chart to demonstrate the proportion of patients who showed up in each category \n",
    "### Hypertensives Vs Non-Hypertensives"
   ]
  },
  {
   "cell_type": "code",
   "execution_count": 14,
   "metadata": {},
   "outputs": [],
   "source": [
    "xlabels=[\"non-hypertensives\", \"hypertensives\" ]\n"
   ]
  },
  {
   "cell_type": "code",
   "execution_count": 15,
   "metadata": {},
   "outputs": [
    {
     "data": {
      "image/png": "[encoded data removed]",
      "text/plain": [
       "<matplotlib.figure.Figure at 0x7ff50557c668>"
      ]
     },
     "metadata": {
      "needs_background": "light"
     },
     "output_type": "display_data"
    }
   ],
   "source": [
    "plt.bar(xlabels,show, width=.3, label=\"showed\")\n",
    "plt.bar(xlabels,no_show, width=.3, label=\"no_show\", bottom=show)\n",
    "plt.xlabel(\"Category of patient\")\n",
    "plt.ylabel(\"Number of patients\")\n",
    "plt.title(\"Number Patients in each category that show vs no_show\")\n",
    "plt.legend();"
   ]
  },
  {
   "cell_type": "markdown",
   "metadata": {},
   "source": [
    "### The risk /probability of a hypertensive showing up for appointment"
   ]
  },
  {
   "cell_type": "code",
   "execution_count": 16,
   "metadata": {},
   "outputs": [
    {
     "data": {
      "text/plain": [
       "0.82698041374248887"
      ]
     },
     "execution_count": 16,
     "metadata": {},
     "output_type": "execute_result"
    }
   ],
   "source": [
    "\n",
    "r_h=prop_h[2]/(prop_h[2]+prop_h[3])\n",
    "r_h"
   ]
  },
  {
   "cell_type": "markdown",
   "metadata": {},
   "source": [
    "### The risk /probability of non-hypertensive showing up for appointment"
   ]
  },
  {
   "cell_type": "code",
   "execution_count": 17,
   "metadata": {},
   "outputs": [
    {
     "data": {
      "text/plain": [
       "0.79096319004575888"
      ]
     },
     "execution_count": 17,
     "metadata": {},
     "output_type": "execute_result"
    }
   ],
   "source": [
    "r_nh=prop_h[0]/(prop_h[0]+prop_h[1])\n",
    "r_nh"
   ]
  },
  {
   "cell_type": "markdown",
   "metadata": {},
   "source": [
    "### Relative risk of showing up among hypertensives"
   ]
  },
  {
   "cell_type": "code",
   "execution_count": 18,
   "metadata": {},
   "outputs": [
    {
     "data": {
      "text/plain": [
       "1.0455359037563383"
      ]
     },
     "execution_count": 18,
     "metadata": {},
     "output_type": "execute_result"
    }
   ],
   "source": [
    "rr_h=r_h/r_nh\n",
    "rr_h"
   ]
  },
  {
   "cell_type": "markdown",
   "metadata": {},
   "source": [
    "### Creating a function that takes three parameters to plot a bar chart for the Risk/Probability of showing up in each case scenario"
   ]
  },
  {
   "cell_type": "code",
   "execution_count": 24,
   "metadata": {},
   "outputs": [],
   "source": [
    "#3 Defining a function\n",
    "def plot(xlabel, values, colors):\n",
    "    return plt.bar(xlabel,values, width=0.3, color=colors)"
   ]
  },
  {
   "cell_type": "markdown",
   "metadata": {},
   "source": [
    "### Plotting a bar chart to show the probability of hypertensives and non-hypertensive showing up for appointment"
   ]
  },
  {
   "cell_type": "code",
   "execution_count": 25,
   "metadata": {},
   "outputs": [],
   "source": [
    "xlabels=[\"Risk of hypertensive showing up\", \"Risk of non-hypertensive showing up\"]\n",
    "values=[r_h, r_nh]\n",
    "colors=[\"b\", \"g\"]"
   ]
  },
  {
   "cell_type": "code",
   "execution_count": 26,
   "metadata": {},
   "outputs": [
    {
     "data": {
      "image/png": "[encoded data removed]",
      "text/plain": [
       "<matplotlib.figure.Figure at 0x7ff505a8e390>"
      ]
     },
     "metadata": {
      "needs_background": "light"
     },
     "output_type": "display_data"
    }
   ],
   "source": [
    "plot(xlabels, values, colors)\n",
    "plt.xlabel(\"Category of Patients that showed up\")\n",
    "plt.ylabel(\"The Probability of a Patient Showing up\")\n",
    "plt.title(\"The probability of a hypertensive Vs a non-hypertensive showing up for appointment\");\n"
   ]
  },
  {
   "cell_type": "markdown",
   "metadata": {},
   "source": [
    "## Diabetics who honored their appointments"
   ]
  },
  {
   "cell_type": "markdown",
   "metadata": {},
   "source": [
    "#### Using the groupby function to aggregate patients base on whether they are diabetic or not.\n",
    "#### The no_show column then is subsetted to determine whether they honored their appointment"
   ]
  },
  {
   "cell_type": "code",
   "execution_count": 51,
   "metadata": {},
   "outputs": [
    {
     "data": {
      "text/plain": [
       "diabetes  no_show\n",
       "0         1          81695\n",
       "          0          20889\n",
       "1         1           6513\n",
       "          0           1430\n",
       "Name: no_show, dtype: int64"
      ]
     },
     "execution_count": 51,
     "metadata": {},
     "output_type": "execute_result"
    }
   ],
   "source": [
    "\n",
    "df_dm=(df.groupby(\"diabetes\")[\"no_show\"].value_counts())\n",
    "df_dm"
   ]
  },
  {
   "cell_type": "markdown",
   "metadata": {},
   "source": [
    "### The cell below will generate a list of the number patients in each of the four unique categories\n",
    "1. First item will be showed and non-diabetic\n",
    "2. Second item will be no_show and non-diabetic\n",
    "3. Third item will be showed and diabetic\n",
    "4. Fouth item will be no_show and diabetic"
   ]
  },
  {
   "cell_type": "code",
   "execution_count": 27,
   "metadata": {},
   "outputs": [
    {
     "data": {
      "text/plain": [
       "array([81695, 20889,  6513,  1430])"
      ]
     },
     "execution_count": 27,
     "metadata": {},
     "output_type": "execute_result"
    }
   ],
   "source": [
    "prop_dm=(df.groupby(\"diabetes\")[\"no_show\"].value_counts()).unique()\n",
    "prop_dm"
   ]
  },
  {
   "cell_type": "code",
   "execution_count": 28,
   "metadata": {},
   "outputs": [],
   "source": [
    "show=[81695, 6513]\n",
    "no_show=[20889, 1430]"
   ]
  },
  {
   "cell_type": "markdown",
   "metadata": {},
   "source": [
    "### Plotting a stacked bar chart to demonstrate the proportion of patients who showed up in each category \n",
    "### Diabetic Vs Non-Diabetics"
   ]
  },
  {
   "cell_type": "code",
   "execution_count": 29,
   "metadata": {},
   "outputs": [],
   "source": [
    "xlabels=[\"Non-diabetics\", \"Diabetics\" ]"
   ]
  },
  {
   "cell_type": "code",
   "execution_count": 30,
   "metadata": {},
   "outputs": [
    {
     "data": {
      "image/png": "[encoded data removed]",
      "text/plain": [
       "<matplotlib.figure.Figure at 0x7ff505aaa828>"
      ]
     },
     "metadata": {
      "needs_background": "light"
     },
     "output_type": "display_data"
    }
   ],
   "source": [
    "plt.bar(xlabels,show, width=.3, label=\"showed\")\n",
    "plt.bar(xlabels,no_show, width=.3, label=\"no_show\", bottom=show)\n",
    "plt.xlabel(\"Category of patient\")\n",
    "plt.ylabel(\"Number of patients\")\n",
    "plt.title(\"Number Patients in each category that show vs no_show\")\n",
    "plt.legend();"
   ]
  },
  {
   "cell_type": "markdown",
   "metadata": {},
   "source": [
    "#### The risk of showing up among the diabetics"
   ]
  },
  {
   "cell_type": "code",
   "execution_count": 31,
   "metadata": {},
   "outputs": [
    {
     "data": {
      "text/plain": [
       "0.81996726677577736"
      ]
     },
     "execution_count": 31,
     "metadata": {},
     "output_type": "execute_result"
    }
   ],
   "source": [
    "\n",
    "r_dm=prop_dm[2]/(prop_dm[2]+prop_dm[3])\n",
    "r_dm"
   ]
  },
  {
   "cell_type": "markdown",
   "metadata": {},
   "source": [
    "#### The risk of showing up among the non-diabetics"
   ]
  },
  {
   "cell_type": "code",
   "execution_count": 32,
   "metadata": {},
   "outputs": [
    {
     "data": {
      "text/plain": [
       "0.79637175387974735"
      ]
     },
     "execution_count": 32,
     "metadata": {},
     "output_type": "execute_result"
    }
   ],
   "source": [
    "\n",
    "r_ndm=prop_dm[0]/(prop_dm[0]+prop_dm[1])\n",
    "r_ndm"
   ]
  },
  {
   "cell_type": "markdown",
   "metadata": {},
   "source": [
    "#### The relative risk (RR) of showing up among the diabetics"
   ]
  },
  {
   "cell_type": "code",
   "execution_count": 33,
   "metadata": {},
   "outputs": [
    {
     "data": {
      "text/plain": [
       "1.0296287666922865"
      ]
     },
     "execution_count": 33,
     "metadata": {},
     "output_type": "execute_result"
    }
   ],
   "source": [
    "\n",
    "rr_dm=r_dm/r_ndm\n",
    "rr_dm"
   ]
  },
  {
   "cell_type": "markdown",
   "metadata": {},
   "source": [
    "### Plotting a bar chart to show the probability of diabetics and non-diabetics showing up for appointment"
   ]
  },
  {
   "cell_type": "code",
   "execution_count": 34,
   "metadata": {},
   "outputs": [],
   "source": [
    "xlabels=[\"Risk of diabetic showing up\", \"Risk of non-diabetic showing up\"]\n",
    "values=[r_dm, r_ndm]\n",
    "colors=[\"b\", \"g\"]"
   ]
  },
  {
   "cell_type": "code",
   "execution_count": 35,
   "metadata": {},
   "outputs": [
    {
     "data": {
      "image/png": "[encoded data removed]",
      "text/plain": [
       "<matplotlib.figure.Figure at 0x7ff5059f5fd0>"
      ]
     },
     "metadata": {
      "needs_background": "light"
     },
     "output_type": "display_data"
    }
   ],
   "source": [
    "plot(xlabels, values, colors)\n",
    "plt.xlabel(\"Category of Patients that showed up\")\n",
    "plt.ylabel(\"The Probability of a Patient Showing up\")\n",
    "plt.title(\"The probability of a diabetic Vs a non-diabetic showing up for appointment\");"
   ]
  },
  {
   "cell_type": "markdown",
   "metadata": {},
   "source": [
    "### Patients who are both hypertensive and Diabetic"
   ]
  },
  {
   "cell_type": "code",
   "execution_count": 36,
   "metadata": {},
   "outputs": [
    {
     "data": {
      "text/plain": [
       "diabetes  hypertension  no_show\n",
       "0         0             1          69011\n",
       "                        0          18258\n",
       "          1             1          12684\n",
       "                        0           2631\n",
       "1         0             1           1168\n",
       "                        0            289\n",
       "          1             1           5345\n",
       "                        0           1141\n",
       "Name: no_show, dtype: int64"
      ]
     },
     "execution_count": 36,
     "metadata": {},
     "output_type": "execute_result"
    }
   ],
   "source": [
    "df_dh=(df.groupby([\"diabetes\", \"hypertension\"])[\"no_show\"].value_counts())\n",
    "df_dh\n"
   ]
  },
  {
   "cell_type": "markdown",
   "metadata": {},
   "source": [
    "#### The above grouping will generate 8 categories of patients, but am only interested in just 2 of the categories\n",
    "1. Patients who are both diabetic and hypertensive who showed up, 7th item in the list.\n",
    "2. Patients who are not hypertensive or diabetic who showed up, 1st item in the list."
   ]
  },
  {
   "cell_type": "code",
   "execution_count": 37,
   "metadata": {},
   "outputs": [
    {
     "data": {
      "text/plain": [
       "array([69011, 18258,  1168,   289, 12684,  2631,  5345,  1141])"
      ]
     },
     "execution_count": 37,
     "metadata": {},
     "output_type": "execute_result"
    }
   ],
   "source": [
    "\n",
    "prop_hd=(df.groupby([ \"hypertension\", \"diabetes\"])[\"no_show\"].value_counts()).unique()\n",
    "prop_hd"
   ]
  },
  {
   "cell_type": "markdown",
   "metadata": {},
   "source": [
    "#### The risk of showing up among the hypertensive-diabetics"
   ]
  },
  {
   "cell_type": "code",
   "execution_count": 38,
   "metadata": {},
   "outputs": [
    {
     "data": {
      "text/plain": [
       "0.82408263953129823"
      ]
     },
     "execution_count": 38,
     "metadata": {},
     "output_type": "execute_result"
    }
   ],
   "source": [
    "r_hd=prop_hd[6]/(prop_hd[6]+prop_hd[7])\n",
    "r_hd"
   ]
  },
  {
   "cell_type": "markdown",
   "metadata": {},
   "source": [
    "#### The risk of showing among the non-hypertensive-diabetics"
   ]
  },
  {
   "cell_type": "code",
   "execution_count": 40,
   "metadata": {},
   "outputs": [
    {
     "data": {
      "text/plain": [
       "0.79078481476813067"
      ]
     },
     "execution_count": 40,
     "metadata": {},
     "output_type": "execute_result"
    }
   ],
   "source": [
    "r_nhd=prop_hd[0]/(prop_hd[0]+prop_hd[1])\n",
    "r_nhd"
   ]
  },
  {
   "cell_type": "markdown",
   "metadata": {},
   "source": [
    "#### Relative risk will be , risk among diabetics-hypertensives/ risk among non-diabetics-hypertensives"
   ]
  },
  {
   "cell_type": "code",
   "execution_count": 41,
   "metadata": {},
   "outputs": [
    {
     "data": {
      "text/plain": [
       "1.0421073143304238"
      ]
     },
     "execution_count": 41,
     "metadata": {},
     "output_type": "execute_result"
    }
   ],
   "source": [
    "rr_hd=r_hd/r_nhd\n",
    "rr_hd"
   ]
  },
  {
   "cell_type": "markdown",
   "metadata": {},
   "source": [
    "### Plotting a bar chart to compare the risk (probability) of hypertensive-diabetic and non-hypertensive-diabetic showing up for appointment"
   ]
  },
  {
   "cell_type": "code",
   "execution_count": 43,
   "metadata": {},
   "outputs": [],
   "source": [
    "xlabels=[\"Risk of hypertensive-diabetic showing up\", \"Risk of non-hypertensive-diabetic showing up\"]\n",
    "values=[r_hd, r_nhd]\n",
    "colors=[\"b\", \"g\"]"
   ]
  },
  {
   "cell_type": "code",
   "execution_count": 44,
   "metadata": {},
   "outputs": [
    {
     "data": {
      "image/png": "[encoded data removed]",
      "text/plain": [
       "<matplotlib.figure.Figure at 0x7ff5059dc9e8>"
      ]
     },
     "metadata": {
      "needs_background": "light"
     },
     "output_type": "display_data"
    }
   ],
   "source": [
    "plot(xlabels, values,colors)\n",
    "plt.xlabel(\"Category of Patients that showed up\")\n",
    "plt.ylabel(\"The Probability of a Patient Showing up\")\n",
    "plt.title(\"The probability of a hypertensive-diabetic Vs a non-hypertensive-diabetic showing up for appointment\");"
   ]
  },
  {
   "cell_type": "markdown",
   "metadata": {},
   "source": [
    "### Plotting a bar chart to compare the RR of showing up among patients with at least one chronic medical condition"
   ]
  },
  {
   "cell_type": "code",
   "execution_count": 45,
   "metadata": {},
   "outputs": [],
   "source": [
    "xlabels=[\"RR_hypertensive showing up\",\"RR_diabetic showing up\",\"RR_hypertensive-diabetic showing up\"]\n",
    "values=[rr_h, rr_dm, rr_hd]\n",
    "colors=['y', 'b', 'g']"
   ]
  },
  {
   "cell_type": "code",
   "execution_count": 46,
   "metadata": {},
   "outputs": [
    {
     "data": {
      "image/png": "[encoded data removed]",
      "text/plain": [
       "<matplotlib.figure.Figure at 0x7ff505aa4470>"
      ]
     },
     "metadata": {
      "needs_background": "light"
     },
     "output_type": "display_data"
    }
   ],
   "source": [
    "plot(xlabels, values, colors)\n",
    "plt.xlabel(\"Categories of Patient with at least one chronic medical condition\")\n",
    "plt.ylabel(\"RR of Patients with Chronic medical condition\")\n",
    "plt.xticks(rotation=70)\n",
    "plt.title(\"Comparing RR of honoring medical appointment among patients with at least one chronic medical condition \");"
   ]
  },
  {
   "cell_type": "markdown",
   "metadata": {},
   "source": [
    "### Research Question 2  (Are older patients more likely default a scheduled medical appointment compared to their younger counterparts ?)"
   ]
  },
  {
   "cell_type": "markdown",
   "metadata": {},
   "source": [
    "#### The age will be group into two categories, patients> 64yrs who are considered elderly in Brazil, and patient between 12 and 64yrs. 12 yrs because that is the age a n individual is considered an adolescent in Brazil, and  is entitled to privacy rights and confidentiality. Patients who are 12yrs and above can therefore seek medical care without parental consent.\n",
    "#### Patients younger thab 12yrs are therefore considered minors who attending of medical appointment depends on their parents."
   ]
  },
  {
   "cell_type": "markdown",
   "metadata": {},
   "source": [
    "### Creating two different dataframes, one for each age grouping (12-64yrs &>64yrs)"
   ]
  },
  {
   "cell_type": "code",
   "execution_count": 48,
   "metadata": {},
   "outputs": [],
   "source": [
    "# This will create two different dataframes using the pandas query function\n",
    "\n",
    "## Dataframe of elderly patients (age >64yrs)\n",
    "df_old=df.query(\"age>=65\")\n",
    "\n",
    "## Dataframe of younger patients (age 12-64yrs)\n",
    "df_young=df.query(\"age>=12 and age<65\")\n"
   ]
  },
  {
   "cell_type": "markdown",
   "metadata": {},
   "source": [
    "#### Creating a table of elderly patients that showed up and those that did not show up"
   ]
  },
  {
   "cell_type": "code",
   "execution_count": 49,
   "metadata": {
    "scrolled": true
   },
   "outputs": [
    {
     "data": {
      "text/plain": [
       "1    12169\n",
       "0     2233\n",
       "Name: no_show, dtype: int64"
      ]
     },
     "execution_count": 49,
     "metadata": {},
     "output_type": "execute_result"
    }
   ],
   "source": [
    "df_old['no_show'].value_counts()"
   ]
  },
  {
   "cell_type": "markdown",
   "metadata": {},
   "source": [
    "#### This will create a list of elderly patients\n",
    "1. First item in the list will be elderly patients who showed up for their appointments\n",
    "2. Second item will be elderly patients who failed to honor their medical appointment"
   ]
  },
  {
   "cell_type": "code",
   "execution_count": 50,
   "metadata": {
    "scrolled": true
   },
   "outputs": [
    {
     "data": {
      "text/plain": [
       "array([12169,  2233])"
      ]
     },
     "execution_count": 50,
     "metadata": {},
     "output_type": "execute_result"
    }
   ],
   "source": [
    "prop_old=df_old['no_show'].value_counts().unique()\n",
    "prop_old"
   ]
  },
  {
   "cell_type": "markdown",
   "metadata": {},
   "source": [
    "#### Creating a table of young patients that showed up and those that did not show up"
   ]
  },
  {
   "cell_type": "code",
   "execution_count": 53,
   "metadata": {},
   "outputs": [
    {
     "data": {
      "text/plain": [
       "1    60129\n",
       "0    16051\n",
       "Name: no_show, dtype: int64"
      ]
     },
     "execution_count": 53,
     "metadata": {},
     "output_type": "execute_result"
    }
   ],
   "source": [
    "df_young['no_show'].value_counts()"
   ]
  },
  {
   "cell_type": "code",
   "execution_count": 54,
   "metadata": {},
   "outputs": [
    {
     "data": {
      "text/plain": [
       "array([60129, 16051])"
      ]
     },
     "execution_count": 54,
     "metadata": {},
     "output_type": "execute_result"
    }
   ],
   "source": [
    "prop_young=df_young['no_show'].value_counts().unique()\n",
    "prop_young"
   ]
  },
  {
   "cell_type": "markdown",
   "metadata": {},
   "source": [
    "### Risk / probability of showing up among both the elderly and young patients"
   ]
  },
  {
   "cell_type": "code",
   "execution_count": 55,
   "metadata": {},
   "outputs": [
    {
     "data": {
      "text/plain": [
       "0.78930165397742191"
      ]
     },
     "execution_count": 55,
     "metadata": {},
     "output_type": "execute_result"
    }
   ],
   "source": [
    "## Using the theory of relative risk to determine if an elderly patient is more likely to default a medical appointment\n",
    "## compared to younger patients\n",
    "\n",
    "\n",
    "# Risk of an elderly patient showing up \n",
    "r_old=prop_old[0]/(prop_old[0]+prop_old[1])\n",
    "r_old\n",
    "\n",
    "# Risk of a young patient showing up\n",
    "r_young=prop_young[0]/(prop_young[0]+prop_young[1])\n",
    "r_young\n"
   ]
  },
  {
   "cell_type": "markdown",
   "metadata": {},
   "source": [
    "#### Relative risk (RR) of showing up among elderly patients"
   ]
  },
  {
   "cell_type": "code",
   "execution_count": 56,
   "metadata": {},
   "outputs": [
    {
     "data": {
      "text/plain": [
       "1.0705059158683476"
      ]
     },
     "execution_count": 56,
     "metadata": {},
     "output_type": "execute_result"
    }
   ],
   "source": [
    "### Relative Risk of an elderly patient honoring their appointment \n",
    "rr_old=r_old/r_young\n",
    "rr_old"
   ]
  },
  {
   "cell_type": "markdown",
   "metadata": {},
   "source": [
    "### Plotting a bar chart to compare the risk (probability) of elderly and young  patient showing up for appointment"
   ]
  },
  {
   "cell_type": "code",
   "execution_count": 58,
   "metadata": {},
   "outputs": [],
   "source": [
    "xlabels=[\"RR of elderly patient showing up\", \"RR of young patient showing up\"]\n",
    "values= [r_old, r_young]\n",
    "colors =['b', 'g']"
   ]
  },
  {
   "cell_type": "code",
   "execution_count": 59,
   "metadata": {},
   "outputs": [
    {
     "data": {
      "image/png": "[encoded data removed]",
      "text/plain": [
       "<matplotlib.figure.Figure at 0x7ff5050a5e80>"
      ]
     },
     "metadata": {
      "needs_background": "light"
     },
     "output_type": "display_data"
    }
   ],
   "source": [
    "plot(xlabels, values, colors)\n",
    "plt.xlabel(\"Category of Patients that showed up\")\n",
    "plt.ylabel(\"The Probability of a Patient Showing up\")\n",
    "plt.title(\"The probability of an elderly Vs a young patient showing up for appointment\");"
   ]
  },
  {
   "cell_type": "markdown",
   "metadata": {},
   "source": [
    "### Research Question 3  (Does receiving an sms reminder makes a patient more likely to honor a medical appointment ?)"
   ]
  },
  {
   "cell_type": "markdown",
   "metadata": {},
   "source": [
    "#### Creating a table of patients who received at least 1 sms, who showed up and those that did not show up"
   ]
  },
  {
   "cell_type": "code",
   "execution_count": 60,
   "metadata": {},
   "outputs": [
    {
     "data": {
      "text/plain": [
       "sms_received  no_show\n",
       "0             1          62510\n",
       "              0          12535\n",
       "1             1          25698\n",
       "              0           9784\n",
       "Name: no_show, dtype: int64"
      ]
     },
     "execution_count": 60,
     "metadata": {},
     "output_type": "execute_result"
    }
   ],
   "source": [
    "df.groupby(\"sms_received\")[\"no_show\"].value_counts()"
   ]
  },
  {
   "cell_type": "markdown",
   "metadata": {},
   "source": [
    "### The cell below will generate a list of the number patients in each of the four unique categories\n",
    "1. First item will be showed and no sms_received\n",
    "2. Second item will be no_show and no sms_received\n",
    "3. Third item will be showed and sms_received\n",
    "4. Fouth item will be no_show and sms_received"
   ]
  },
  {
   "cell_type": "code",
   "execution_count": 61,
   "metadata": {},
   "outputs": [
    {
     "data": {
      "text/plain": [
       "array([62510, 12535, 25698,  9784])"
      ]
     },
     "execution_count": 61,
     "metadata": {},
     "output_type": "execute_result"
    }
   ],
   "source": [
    "prop_sms=df.groupby(\"sms_received\")[\"no_show\"].value_counts().unique()\n",
    "prop_sms"
   ]
  },
  {
   "cell_type": "markdown",
   "metadata": {},
   "source": [
    "#### The risk / probability of showing uo among patients who received at least 1 sms"
   ]
  },
  {
   "cell_type": "code",
   "execution_count": 62,
   "metadata": {},
   "outputs": [
    {
     "data": {
      "text/plain": [
       "0.72425455160363006"
      ]
     },
     "execution_count": 62,
     "metadata": {},
     "output_type": "execute_result"
    }
   ],
   "source": [
    "## Risk of showing up among patients who received at least 1 message\n",
    "# patients who received sms who showed up/ total number of patients who received sms\n",
    "r_sms=prop_sms[2]/(prop_sms[2]+prop_sms[3])\n",
    "r_sms"
   ]
  },
  {
   "cell_type": "markdown",
   "metadata": {},
   "source": [
    "#### The risk / probability of showing up among patients who did not receive any sms"
   ]
  },
  {
   "cell_type": "code",
   "execution_count": 63,
   "metadata": {},
   "outputs": [
    {
     "data": {
      "text/plain": [
       "0.83296688653474582"
      ]
     },
     "execution_count": 63,
     "metadata": {},
     "output_type": "execute_result"
    }
   ],
   "source": [
    "## Risk of showing up among patients who did not received any message\n",
    "# patients who did not received sms who showed up/ total number of patients who did not received sms\n",
    "r_nsms=prop_sms[0]/(prop_sms[0]+prop_sms[1])\n",
    "r_nsms"
   ]
  },
  {
   "cell_type": "markdown",
   "metadata": {},
   "source": [
    "#### The Relative Risk (RR) of showing up among patients who received at least 1 sms"
   ]
  },
  {
   "cell_type": "code",
   "execution_count": 64,
   "metadata": {},
   "outputs": [
    {
     "data": {
      "text/plain": [
       "0.86948780715236629"
      ]
     },
     "execution_count": 64,
     "metadata": {},
     "output_type": "execute_result"
    }
   ],
   "source": [
    "## Relative Risk of showing up after receiving at least 1 sms\n",
    "rr_sms=r_sms/r_nsms\n",
    "rr_sms"
   ]
  },
  {
   "cell_type": "markdown",
   "metadata": {},
   "source": [
    "### Plotting a bar chart to compare the risk /probability of showing up among patients that received at least 1 sms and those that did not receive any sms"
   ]
  },
  {
   "cell_type": "code",
   "execution_count": 65,
   "metadata": {},
   "outputs": [],
   "source": [
    "xlabels=[\"sms_patient\", \"No sms_patient\"]\n",
    "values=[r_sms, r_nsms]\n",
    "colors=['y', 'g']"
   ]
  },
  {
   "cell_type": "code",
   "execution_count": 66,
   "metadata": {},
   "outputs": [
    {
     "data": {
      "image/png": "[encoded data removed]",
      "text/plain": [
       "<matplotlib.figure.Figure at 0x7ff50507bc18>"
      ]
     },
     "metadata": {
      "needs_background": "light"
     },
     "output_type": "display_data"
    }
   ],
   "source": [
    "plot(xlabels, values, colors)\n",
    "plt.xlabel(\"Category of patients that showed up\")\n",
    "plt.ylabel(\"Risk of Patient showing up\")\n",
    "plt.title('Comparing th risk of showing up for sms_patients Vs no sms_patient');"
   ]
  },
  {
   "cell_type": "markdown",
   "metadata": {},
   "source": [
    "### Research Question 4  ( How does been on the a scholarship influence patients' appointment attendance ?)"
   ]
  },
  {
   "cell_type": "markdown",
   "metadata": {},
   "source": [
    "#### Creating a table of patients base on their scholarship status and whether they showed up or not"
   ]
  },
  {
   "cell_type": "code",
   "execution_count": 67,
   "metadata": {},
   "outputs": [
    {
     "data": {
      "text/plain": [
       "scholarship  no_show\n",
       "0            1          79925\n",
       "             0          19741\n",
       "1            1           8283\n",
       "             0           2578\n",
       "Name: no_show, dtype: int64"
      ]
     },
     "execution_count": 67,
     "metadata": {},
     "output_type": "execute_result"
    }
   ],
   "source": [
    "df.groupby(\"scholarship\")[\"no_show\"].value_counts()"
   ]
  },
  {
   "cell_type": "markdown",
   "metadata": {},
   "source": [
    "### The cell below will generate a list of the number patients in each of the four unique categories\n",
    "1. First item will be showed and no scholarship\n",
    "2. Second item will be no_show and no scholarship\n",
    "3. Third item will be showed and have scholarship\n",
    "4. Fouth item will be no_show and have scholarship"
   ]
  },
  {
   "cell_type": "code",
   "execution_count": 69,
   "metadata": {},
   "outputs": [
    {
     "data": {
      "text/plain": [
       "array([79925, 19741,  8283,  2578])"
      ]
     },
     "execution_count": 69,
     "metadata": {},
     "output_type": "execute_result"
    }
   ],
   "source": [
    "prop_sch=df.groupby(\"scholarship\")[\"no_show\"].value_counts().unique()\n",
    "prop_sch"
   ]
  },
  {
   "cell_type": "markdown",
   "metadata": {},
   "source": [
    "#### The risk/probability of showing up among scholarship patients"
   ]
  },
  {
   "cell_type": "code",
   "execution_count": 70,
   "metadata": {},
   "outputs": [
    {
     "data": {
      "text/plain": [
       "0.76263695792284325"
      ]
     },
     "execution_count": 70,
     "metadata": {},
     "output_type": "execute_result"
    }
   ],
   "source": [
    "## Risk of showing up among patients who are on scholarship\n",
    "# patients who are on scholarship who showed up/ total number of patients who are on scholarship\n",
    "r_sch=prop_sch[2]/(prop_sch[2]+prop_sch[3])\n",
    "r_sch"
   ]
  },
  {
   "cell_type": "markdown",
   "metadata": {},
   "source": [
    "#### The risk / probability of showing up among non-scholarship patients"
   ]
  },
  {
   "cell_type": "code",
   "execution_count": 71,
   "metadata": {},
   "outputs": [
    {
     "data": {
      "text/plain": [
       "0.80192844099291638"
      ]
     },
     "execution_count": 71,
     "metadata": {},
     "output_type": "execute_result"
    }
   ],
   "source": [
    "## Risk of showing up among patients who are not on scholarship\n",
    "# patients who are not on scholarship who showed up/ total number of patients who are not on scholarship\n",
    "r_nsch=prop_sch[0]/(prop_sch[0]+prop_sch[1])\n",
    "r_nsch"
   ]
  },
  {
   "cell_type": "markdown",
   "metadata": {},
   "source": [
    "#### The Relative Risk of showing up among scholarship patients"
   ]
  },
  {
   "cell_type": "code",
   "execution_count": 72,
   "metadata": {},
   "outputs": [
    {
     "data": {
      "text/plain": [
       "0.95100375412371718"
      ]
     },
     "execution_count": 72,
     "metadata": {},
     "output_type": "execute_result"
    }
   ],
   "source": [
    "## Relative Risk of showing up among patients who are on scholarship\n",
    "rr_sch=r_sch/r_nsch\n",
    "rr_sch"
   ]
  },
  {
   "cell_type": "markdown",
   "metadata": {},
   "source": [
    "### Plotting a bar chart to compare the  risk/probability of showing up among scholarship and non-scholarship patients"
   ]
  },
  {
   "cell_type": "code",
   "execution_count": 73,
   "metadata": {},
   "outputs": [],
   "source": [
    "xlabels=[\"Scholarship_patient\", \"Non-scholarship_patient\"]\n",
    "values= [r_sch, r_nsch]\n",
    "colors=['y', 'g']"
   ]
  },
  {
   "cell_type": "code",
   "execution_count": 74,
   "metadata": {},
   "outputs": [
    {
     "data": {
      "image/png": "[encoded data removed]",
      "text/plain": [
       "<matplotlib.figure.Figure at 0x7ff50504e208>"
      ]
     },
     "metadata": {
      "needs_background": "light"
     },
     "output_type": "display_data"
    }
   ],
   "source": [
    "plot(xlabels, values, colors)\n",
    "plt.xlabel(\"Category of patients that showed up\")\n",
    "plt.ylabel(\"Risk of Patient showing up\")\n",
    "plt.title('Comparing th risk of showing up for scholarship Vs non-scholarship patient');"
   ]
  },
  {
   "cell_type": "markdown",
   "metadata": {},
   "source": [
    "<a id='conclusions'></a>\n",
    "## Conclusions\n",
    "\n",
    "#### Questions for Analysis\n",
    "\n",
    "##### Interperations and possible conclusions that can be drawn from the relative risk values of the analysis\n",
    "\n",
    "> **Q1**. __Does having a chronic medical condition (hypertension or diabetes) makes a patient more likely to honor a medical appointment?__\n",
    " From the analysis,  hypertensives are  approx. 1.05 times more likely to show up for their appointment compared to non-hypertensive, in other words hypertensives are 5% more likely to honor their medical appointments compared to non-hypertensives.\n",
    "With regards to diabetes, they are 1.03 times more likely to show up for their appointment compared to non-diabetics, which can be restated as, diabetics are 3% more likely to honor their medical appointment compared to non-diabetics.\n",
    "Patients with both diseases (hypertensive & diabetes) are 1.04 times or 4%  more likely to show up for their appointment compared to patients who do not have any of these chronic medical conditions.\n",
    "In general, there seems to a be a higher tendency for patients with chronic medical conditions to honor their medical appointment.  Though this only suggests a correlation and not a causation, **one possible explanation for this pattern** could be the fact that patient diagnosed with these conditions would have been counselled extensively on the needs for regular check up and the consequences of defualt.  \n",
    "\n",
    ">**Q2**. __Are older patients more likely to default a scheduled medical appointment compared to their younger counterparts?__\n",
    "There are possible reasons for one to think that elderly patients might have a higher default rate, \n",
    "1.For instance, one could say that alzheimers(a neurodegenerative disease that cause patients to forget things) which is common among the elderly population, could make the elderly patients more likely not to show up for their appointment.\n",
    "2.Elderly patients are more likely to have issues with mobility and therefore might have higher default rate because they need assistance to go about their activitiies of daily living.\n",
    "These and many more hypothesis could be be posited.\n",
    "**But a look at the results from the analysis tells a different story.**\n",
    "From the analysis elderly patients are 1.071 times or 7% morely likely to attend medical appointment compared to younger pateints.\n",
    "**Possible explanation for this observation**\n",
    "1.Generally, people tend to develop chronic medical conditions especially hypertension and diabetes as they grow older, this therefore means that the frequency of hypertension and diabetes might be higher among the elderly patients in the dataset, and since we have already established a correlation been high hospital attendance and these medical conditions, could be accounting for the higher hospital attendance.\n",
    "**In order to confirm this, one might have to do further analysis such as grouping hypertension and diabetes by age and determine the counts to see if there are more elderly patients with these this conditions.**\n",
    "2.Another possible reason for this observation, could be elderly patients might have a less busy schedule compared to their younger counterparts, since elderly patients are more likely to be on retirement. \n",
    "**To confirm this, one will need more information, such as the main reason for not showing up, (if the reason is time constrains)**\n",
    "\n",
    ">**Q3**. __Does receiving an sms reminder makes a patient more likely to honor a medical appointment?__\n",
    "The results of the relative risk or probability for patients who received at least 1 sms is 0.87, which means that they 13% less likely to show up for their appointment compared to patients who did not received any message at all.\n",
    "This results is however counterintuitive and therefore warrants some more information and further investigations.\n",
    "**What could be accounting this results?**\n",
    "1.Could it be that though the sms were sent they were never read/opened?\n",
    "2.Could it be that there were a particular age group or patients with particular diagnosis that were sent sms, other words, were the sms sent to patients who were known to have high defualt rate?\n",
    "Answers these and many other questions could throw some light on the results and make a more concrete conclusion.\n",
    "\n",
    ">**Q4**. __How does been on the scholarship influence patients' appointment attendance?__\n",
    "The results shows that patients who are on scholarship are 5% less likely to show up for their scheduled medical appointments compared to patients who are not on scholarship.\n",
    "__Possible explanation for this observation :__\n",
    "The Brazilian family allowance (Bolsa Familia), one the most popular social welfare system in the world, is targeted at people who are living in poverty. This means that all the patients under the scholarship are generally poor compared to their counterparts who are not on the scholarship. \n",
    "Poverty could their be accounting for the higher default rate among the patients who are on the scholarship, since they might not be able to pay for hospital bills.\n",
    "\n",
    "#### Limitations\n",
    "> One major limitation with doing just a descriptive analysis as done here, is the fact the results and conclusions are only tentative, without inferential statistics to perform test of significance on the results, one cannot tell if the findings are significant or by mere chance.\n",
    "\n"
   ]
  },
  {
   "cell_type": "code",
   "execution_count": null,
   "metadata": {},
   "outputs": [],
   "source": []
  }
 ],
 "metadata": {
  "kernelspec": {
   "display_name": "Python 3 (ipykernel)",
   "language": "python",
   "name": "python3"
  },
  "language_info": {
   "codemirror_mode": {
    "name": "ipython",
    "version": 3
   },
   "file_extension": ".py",
   "mimetype": "text/x-python",
   "name": "python",
   "nbconvert_exporter": "python",
   "pygments_lexer": "ipython3",
   "version": "3.10.9"
  }
 },
 "nbformat": 4,
 "nbformat_minor": 2
}
