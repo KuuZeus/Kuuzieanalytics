{
 "cells": [
  {
   "cell_type": "markdown",
   "id": "4bda07ff",
   "metadata": {},
   "source": [
    "# ANALYSIS OF AIR POLLUTION DATA  "
   ]
  },
  {
   "cell_type": "markdown",
   "id": "b105e233",
   "metadata": {},
   "source": [
    "## TABLE OF CONTENT\n",
    "\n",
    "> **INTRODUCTION**\n",
    "\n",
    "> **DATA WRANGLING**\n",
    "\n",
    "> **EXPLORATORY DATA ANALYSIS (EDA)**\n",
    "\n",
    "> **CONCLUSION**\n"
   ]
  },
  {
   "cell_type": "markdown",
   "id": "9022247a",
   "metadata": {},
   "source": [
    "\n",
    "## INTRODUCTION\n",
    "\n",
    "### DATASET DESCRIPTION\n",
    "\n",
    "> The data was downloaded from the Global Health Data Exchange website [link](https://ghdx.healthdata.org/gbd-2019), it is on the particulate matter air pollution, recorded from 1990 to 2019. In recent times there has been a lot of talk on the health risk of air pollution, the air pollutant with  the greatest health hazard is the **particulate matter (PM)**, PM comes in two major sizes PM 10 ( diameter of 10 micrometers) , and PM 2.5 ( diameter of 2.5 micrometers). \n",
    "\n",
    ">Some of the **health consequencies** of exposure to PM includes _increase in adverse cardiovascular events_, _increase respiratory illness especially in susceptible groups (Asthma & COPD patients)_, _increase in hospital admission_, _increase in mortality_, _reduced life expectancy_. \n",
    "\n",
    "\n",
    "### There are three (3) csv files\n",
    "\n",
    "### FIRST CSV FILE\n",
    "\n",
    "### The first csv file (air_pollution.csv) contains 12 unique features \n",
    "> **_measure_id_** : this identifies the specific air pollutant being measured by the sensor (NB: Most sensor measure several other pollutants at same time), since the data was only for particulate matter, the measure_id was same for all the enteries\n",
    "\n",
    ">**measure_name** : this describes the kind of data collected by the sensor , whether discrete or continous\n",
    "\n",
    ">**location_id** :  this identifies which location the sensor was taking the reading is taken from ( even within same country there more than location where air-quality is meausred) \n",
    "\n",
    ">**location_name** : this identifies which country the reading is taken from\n",
    "\n",
    ">**rei_id** & **rei_name** : this describes which type of air quality is been measured (indoor air or ambient particulate matter)\n",
    "\n",
    ">**year_id** : the year the air quality was measured\n",
    "\n",
    ">**unit** : the unit in which the particulate matter was measured in \n",
    "\n",
    ">**mean**, **median**, **upper** & **lower** : the mean, median, highest and lowest values of the particulate matter measured\n",
    "\n",
    "### SECOND CSV FILE\n",
    "\n",
    "#### The second csv file is a combination of 14 identical csv files of the countries and territories/dependencies and their respective population from 1990 to 2019\n",
    "#### These csv files have 14 unique features\n",
    "\n",
    ">**location_id**: a unique identifier for each country/terrritoy\n",
    "\n",
    ">**location_name**: the name of the country/territory\t\n",
    "\n",
    ">**sex_id**: a unique identifier for each sex category (male/female)\n",
    "\n",
    ">**sex_name**: the biological sex category of each person in the census (male/female)\t\n",
    "\n",
    ">**age_group_id**: a unique identifier for for each age category\t\n",
    "\n",
    ">**age_group_name**: the name of the age category ( e.g under 5, 5-10 yrs etc)\n",
    "\n",
    ">**year_id**: the year the census was taken\t\n",
    "\n",
    ">**measure_id**: a unique identifier for each measure \t\n",
    "\n",
    ">**measure_name**: the name of the measure (in this case it is population)\t\n",
    "\n",
    ">**metric_id**: a unique identifier for each measure\t\n",
    "\n",
    ">**metric_name**: the metric name (in this case it is  numeric/number)\t\n",
    "\n",
    ">**val**: the value of the population \t\n",
    "\n",
    ">**upper**: the upper margin of error of the recorded population\t\n",
    "\n",
    ">**lower**:  the lower margin of error of the recorded population\t\n",
    "\n",
    "### THIRD CSV FILE\n",
    "#### This contains data on all cause of mortality in various age groups for various countries \n",
    "\n",
    "\n",
    ">**location_id**: a unique identifier for each country/terrritoy\n",
    "\n",
    ">**location_name**: the name of the country/territory\t\n",
    "\n",
    ">**sex_id**: a unique identifier for each sex category (male/female)\n",
    "\n",
    ">**sex_name**: the biological sex category of each person in the census (male/female)\t\n",
    "\n",
    ">**age_group_id**: a unique identifier for for each age category\t\n",
    "\n",
    ">**age_group_name**: the name of the age category ( e.g under 5, 5-10 yrs etc)\n",
    "\n",
    ">**year_id**: the year the census was taken\n",
    "\n",
    ">**cause_id**: a unique identifier for each cause of death\n",
    "\n",
    ">**cause_name**: the name of the cause of mortality (in this case it is 'all cause')\n",
    "\n",
    ">**measure_id**: a unique identifier for each measure \t\n",
    "\n",
    ">**measure_name**: the name of the measure (in this case it is population)\t\n",
    "\n",
    ">**metric_id**: a unique identifier for each measure\t\n",
    "\n",
    ">**metric_name**: the metric name (in this case it is  numeric/number)\t\n",
    "\n",
    ">**val**: the value of the mortality\t\n",
    "\n",
    ">**upper**: the upper margin of error of the recorded mortality \t\n",
    "\n",
    ">**lower**:  the lower margin of error of the recorded mortality\n",
    "\n",
    "### QUESTIONS FOR ANALYSIS \n",
    "> __Q1__ What is the Global trend of mean particulate matter ?\n",
    "\n",
    "> __Q2__ What is the trend of mean particulate matter in Ghana and how does it compare with the global trend?\n",
    "\n",
    "> __Q3__ Which African countries has the highest mean PM concentration?\n",
    "\n",
    "> __Q4__ Which are the top 10 populous countries ?\n",
    "\n",
    "> __Q5__ What is the trend of Global total annual mortality ?\n",
    "\n",
    "> __Q6__ Which African country had the highest total mortality in 2019 ?\n",
    "\n",
    "> __Q7__ What is the trend of total annual mortality in Ghana ?\n",
    "\n",
    "> __Q8__ What is the correlation between a countries population and mean particulate matter ? \n",
    "\n",
    "> __Q9__ What is the correlation between a country's mean particulate matter and total mortality ?\n"
   ]
  },
  {
   "cell_type": "markdown",
   "id": "f9451667",
   "metadata": {},
   "source": [
    "# DATA WRANGLING \n",
    "\n",
    "### Importing the necessary libraries"
   ]
  },
  {
   "cell_type": "code",
   "execution_count": 1,
   "id": "661bf418",
   "metadata": {},
   "outputs": [],
   "source": [
    "import pandas as pd\n",
    "import numpy as np\n",
    "import seaborn as sns\n",
    "import requests\n",
    "import os\n",
    "from glob import glob\n",
    "import pandas_profiling as pp\n",
    "from bs4 import BeautifulSoup\n",
    "import matplotlib.pyplot as plt\n",
    "import geopandas\n",
    "from wordcloud import WordCloud\n",
    "%matplotlib inline\n",
    "import numpy as np\n",
    "import warnings\n",
    "warnings.filterwarnings('ignore')\n"
   ]
  },
  {
   "cell_type": "markdown",
   "id": "651e1ac0",
   "metadata": {},
   "source": [
    "## FIRST (1) DATAFRAME, GLOBAL PARTICULATE MATTER DATA"
   ]
  },
  {
   "cell_type": "markdown",
   "id": "4fbe2645",
   "metadata": {},
   "source": [
    "### Loading the air_pollution.csv file into a pandas dataframe"
   ]
  },
  {
   "cell_type": "code",
   "execution_count": 2,
   "id": "fd18597e",
   "metadata": {},
   "outputs": [
    {
     "data": {
      "text/html": [
       "<div>\n",
       "<style scoped>\n",
       "    .dataframe tbody tr th:only-of-type {\n",
       "        vertical-align: middle;\n",
       "    }\n",
       "\n",
       "    .dataframe tbody tr th {\n",
       "        vertical-align: top;\n",
       "    }\n",
       "\n",
       "    .dataframe thead th {\n",
       "        text-align: right;\n",
       "    }\n",
       "</style>\n",
       "<table border=\"1\" class=\"dataframe\">\n",
       "  <thead>\n",
       "    <tr style=\"text-align: right;\">\n",
       "      <th></th>\n",
       "      <th>measure_id</th>\n",
       "      <th>measure_name</th>\n",
       "      <th>location_id</th>\n",
       "      <th>location_name</th>\n",
       "      <th>rei_id</th>\n",
       "      <th>rei_name</th>\n",
       "      <th>year_id</th>\n",
       "      <th>unit</th>\n",
       "      <th>mean</th>\n",
       "      <th>median</th>\n",
       "      <th>upper</th>\n",
       "      <th>lower</th>\n",
       "    </tr>\n",
       "  </thead>\n",
       "  <tbody>\n",
       "    <tr>\n",
       "      <th>0</th>\n",
       "      <td>19</td>\n",
       "      <td>Continuous</td>\n",
       "      <td>1</td>\n",
       "      <td>Global</td>\n",
       "      <td>86</td>\n",
       "      <td>Ambient particulate matter pollution</td>\n",
       "      <td>1990</td>\n",
       "      <td>micrograms per cubic meter</td>\n",
       "      <td>40.815004</td>\n",
       "      <td>40.024924</td>\n",
       "      <td>55.004524</td>\n",
       "      <td>31.223093</td>\n",
       "    </tr>\n",
       "    <tr>\n",
       "      <th>1</th>\n",
       "      <td>19</td>\n",
       "      <td>Continuous</td>\n",
       "      <td>1</td>\n",
       "      <td>Global</td>\n",
       "      <td>86</td>\n",
       "      <td>Ambient particulate matter pollution</td>\n",
       "      <td>1995</td>\n",
       "      <td>micrograms per cubic meter</td>\n",
       "      <td>39.467526</td>\n",
       "      <td>38.931685</td>\n",
       "      <td>51.411823</td>\n",
       "      <td>31.126337</td>\n",
       "    </tr>\n",
       "    <tr>\n",
       "      <th>2</th>\n",
       "      <td>19</td>\n",
       "      <td>Continuous</td>\n",
       "      <td>1</td>\n",
       "      <td>Global</td>\n",
       "      <td>86</td>\n",
       "      <td>Ambient particulate matter pollution</td>\n",
       "      <td>2000</td>\n",
       "      <td>micrograms per cubic meter</td>\n",
       "      <td>41.116011</td>\n",
       "      <td>40.590869</td>\n",
       "      <td>51.708282</td>\n",
       "      <td>34.053983</td>\n",
       "    </tr>\n",
       "    <tr>\n",
       "      <th>3</th>\n",
       "      <td>19</td>\n",
       "      <td>Continuous</td>\n",
       "      <td>1</td>\n",
       "      <td>Global</td>\n",
       "      <td>86</td>\n",
       "      <td>Ambient particulate matter pollution</td>\n",
       "      <td>2005</td>\n",
       "      <td>micrograms per cubic meter</td>\n",
       "      <td>40.806087</td>\n",
       "      <td>40.596197</td>\n",
       "      <td>47.669596</td>\n",
       "      <td>35.207977</td>\n",
       "    </tr>\n",
       "    <tr>\n",
       "      <th>4</th>\n",
       "      <td>19</td>\n",
       "      <td>Continuous</td>\n",
       "      <td>1</td>\n",
       "      <td>Global</td>\n",
       "      <td>86</td>\n",
       "      <td>Ambient particulate matter pollution</td>\n",
       "      <td>2010</td>\n",
       "      <td>micrograms per cubic meter</td>\n",
       "      <td>42.706024</td>\n",
       "      <td>42.682384</td>\n",
       "      <td>45.711307</td>\n",
       "      <td>39.848356</td>\n",
       "    </tr>\n",
       "    <tr>\n",
       "      <th>...</th>\n",
       "      <td>...</td>\n",
       "      <td>...</td>\n",
       "      <td>...</td>\n",
       "      <td>...</td>\n",
       "      <td>...</td>\n",
       "      <td>...</td>\n",
       "      <td>...</td>\n",
       "      <td>...</td>\n",
       "      <td>...</td>\n",
       "      <td>...</td>\n",
       "      <td>...</td>\n",
       "      <td>...</td>\n",
       "    </tr>\n",
       "    <tr>\n",
       "      <th>9655</th>\n",
       "      <td>19</td>\n",
       "      <td>Continuous</td>\n",
       "      <td>44792</td>\n",
       "      <td>Plymouth</td>\n",
       "      <td>86</td>\n",
       "      <td>Ambient particulate matter pollution</td>\n",
       "      <td>2015</td>\n",
       "      <td>micrograms per cubic meter</td>\n",
       "      <td>10.072050</td>\n",
       "      <td>10.051968</td>\n",
       "      <td>11.318119</td>\n",
       "      <td>8.984610</td>\n",
       "    </tr>\n",
       "    <tr>\n",
       "      <th>9656</th>\n",
       "      <td>19</td>\n",
       "      <td>Continuous</td>\n",
       "      <td>44792</td>\n",
       "      <td>Plymouth</td>\n",
       "      <td>86</td>\n",
       "      <td>Ambient particulate matter pollution</td>\n",
       "      <td>2016</td>\n",
       "      <td>micrograms per cubic meter</td>\n",
       "      <td>9.737908</td>\n",
       "      <td>9.720493</td>\n",
       "      <td>10.940944</td>\n",
       "      <td>8.727760</td>\n",
       "    </tr>\n",
       "    <tr>\n",
       "      <th>9657</th>\n",
       "      <td>19</td>\n",
       "      <td>Continuous</td>\n",
       "      <td>44792</td>\n",
       "      <td>Plymouth</td>\n",
       "      <td>86</td>\n",
       "      <td>Ambient particulate matter pollution</td>\n",
       "      <td>2017</td>\n",
       "      <td>micrograms per cubic meter</td>\n",
       "      <td>9.653606</td>\n",
       "      <td>9.637090</td>\n",
       "      <td>10.864073</td>\n",
       "      <td>8.640002</td>\n",
       "    </tr>\n",
       "    <tr>\n",
       "      <th>9658</th>\n",
       "      <td>19</td>\n",
       "      <td>Continuous</td>\n",
       "      <td>44792</td>\n",
       "      <td>Plymouth</td>\n",
       "      <td>86</td>\n",
       "      <td>Ambient particulate matter pollution</td>\n",
       "      <td>2018</td>\n",
       "      <td>micrograms per cubic meter</td>\n",
       "      <td>9.721287</td>\n",
       "      <td>9.698694</td>\n",
       "      <td>10.937487</td>\n",
       "      <td>8.703342</td>\n",
       "    </tr>\n",
       "    <tr>\n",
       "      <th>9659</th>\n",
       "      <td>19</td>\n",
       "      <td>Continuous</td>\n",
       "      <td>44792</td>\n",
       "      <td>Plymouth</td>\n",
       "      <td>86</td>\n",
       "      <td>Ambient particulate matter pollution</td>\n",
       "      <td>2019</td>\n",
       "      <td>micrograms per cubic meter</td>\n",
       "      <td>9.667087</td>\n",
       "      <td>9.647236</td>\n",
       "      <td>10.874197</td>\n",
       "      <td>8.652086</td>\n",
       "    </tr>\n",
       "  </tbody>\n",
       "</table>\n",
       "<p>9660 rows × 12 columns</p>\n",
       "</div>"
      ],
      "text/plain": [
       "      measure_id measure_name  location_id location_name  rei_id  \\\n",
       "0             19   Continuous            1        Global      86   \n",
       "1             19   Continuous            1        Global      86   \n",
       "2             19   Continuous            1        Global      86   \n",
       "3             19   Continuous            1        Global      86   \n",
       "4             19   Continuous            1        Global      86   \n",
       "...          ...          ...          ...           ...     ...   \n",
       "9655          19   Continuous        44792      Plymouth      86   \n",
       "9656          19   Continuous        44792      Plymouth      86   \n",
       "9657          19   Continuous        44792      Plymouth      86   \n",
       "9658          19   Continuous        44792      Plymouth      86   \n",
       "9659          19   Continuous        44792      Plymouth      86   \n",
       "\n",
       "                                  rei_name  year_id  \\\n",
       "0     Ambient particulate matter pollution     1990   \n",
       "1     Ambient particulate matter pollution     1995   \n",
       "2     Ambient particulate matter pollution     2000   \n",
       "3     Ambient particulate matter pollution     2005   \n",
       "4     Ambient particulate matter pollution     2010   \n",
       "...                                    ...      ...   \n",
       "9655  Ambient particulate matter pollution     2015   \n",
       "9656  Ambient particulate matter pollution     2016   \n",
       "9657  Ambient particulate matter pollution     2017   \n",
       "9658  Ambient particulate matter pollution     2018   \n",
       "9659  Ambient particulate matter pollution     2019   \n",
       "\n",
       "                            unit       mean     median      upper      lower  \n",
       "0     micrograms per cubic meter  40.815004  40.024924  55.004524  31.223093  \n",
       "1     micrograms per cubic meter  39.467526  38.931685  51.411823  31.126337  \n",
       "2     micrograms per cubic meter  41.116011  40.590869  51.708282  34.053983  \n",
       "3     micrograms per cubic meter  40.806087  40.596197  47.669596  35.207977  \n",
       "4     micrograms per cubic meter  42.706024  42.682384  45.711307  39.848356  \n",
       "...                          ...        ...        ...        ...        ...  \n",
       "9655  micrograms per cubic meter  10.072050  10.051968  11.318119   8.984610  \n",
       "9656  micrograms per cubic meter   9.737908   9.720493  10.940944   8.727760  \n",
       "9657  micrograms per cubic meter   9.653606   9.637090  10.864073   8.640002  \n",
       "9658  micrograms per cubic meter   9.721287   9.698694  10.937487   8.703342  \n",
       "9659  micrograms per cubic meter   9.667087   9.647236  10.874197   8.652086  \n",
       "\n",
       "[9660 rows x 12 columns]"
      ]
     },
     "execution_count": 2,
     "metadata": {},
     "output_type": "execute_result"
    }
   ],
   "source": [
    "df_pm=pd.read_csv('air_pollution.csv')\n",
    "\n",
    "### visually inspecting the data for any quality issues \n",
    "\n",
    "df_pm"
   ]
  },
  {
   "cell_type": "markdown",
   "id": "4cf05fd4",
   "metadata": {},
   "source": [
    "#### PROGRAMATICALLY INSPECTING THE DATA"
   ]
  },
  {
   "cell_type": "code",
   "execution_count": 3,
   "id": "c27c872b",
   "metadata": {},
   "outputs": [
    {
     "name": "stdout",
     "output_type": "stream",
     "text": [
      "<class 'pandas.core.frame.DataFrame'>\n",
      "RangeIndex: 9660 entries, 0 to 9659\n",
      "Data columns (total 12 columns):\n",
      " #   Column         Non-Null Count  Dtype  \n",
      "---  ------         --------------  -----  \n",
      " 0   measure_id     9660 non-null   int64  \n",
      " 1   measure_name   9660 non-null   object \n",
      " 2   location_id    9660 non-null   int64  \n",
      " 3   location_name  9660 non-null   object \n",
      " 4   rei_id         9660 non-null   int64  \n",
      " 5   rei_name       9660 non-null   object \n",
      " 6   year_id        9660 non-null   int64  \n",
      " 7   unit           9660 non-null   object \n",
      " 8   mean           9660 non-null   float64\n",
      " 9   median         9660 non-null   float64\n",
      " 10  upper          9660 non-null   float64\n",
      " 11  lower          9660 non-null   float64\n",
      "dtypes: float64(4), int64(4), object(4)\n",
      "memory usage: 905.8+ KB\n"
     ]
    }
   ],
   "source": [
    "df_pm.info()"
   ]
  },
  {
   "cell_type": "code",
   "execution_count": 4,
   "id": "27d9cb21",
   "metadata": {},
   "outputs": [
    {
     "data": {
      "text/plain": [
       "Index(['measure_id', 'measure_name', 'location_id', 'location_name', 'rei_id',\n",
       "       'rei_name', 'year_id', 'unit', 'mean', 'median', 'upper', 'lower'],\n",
       "      dtype='object')"
      ]
     },
     "execution_count": 4,
     "metadata": {},
     "output_type": "execute_result"
    }
   ],
   "source": [
    "df_pm.columns"
   ]
  },
  {
   "cell_type": "code",
   "execution_count": 5,
   "id": "518465bb",
   "metadata": {},
   "outputs": [
    {
     "data": {
      "text/html": [
       "<div>\n",
       "<style scoped>\n",
       "    .dataframe tbody tr th:only-of-type {\n",
       "        vertical-align: middle;\n",
       "    }\n",
       "\n",
       "    .dataframe tbody tr th {\n",
       "        vertical-align: top;\n",
       "    }\n",
       "\n",
       "    .dataframe thead th {\n",
       "        text-align: right;\n",
       "    }\n",
       "</style>\n",
       "<table border=\"1\" class=\"dataframe\">\n",
       "  <thead>\n",
       "    <tr style=\"text-align: right;\">\n",
       "      <th></th>\n",
       "      <th>measure_id</th>\n",
       "      <th>location_id</th>\n",
       "      <th>rei_id</th>\n",
       "      <th>year_id</th>\n",
       "      <th>mean</th>\n",
       "      <th>median</th>\n",
       "      <th>upper</th>\n",
       "      <th>lower</th>\n",
       "    </tr>\n",
       "  </thead>\n",
       "  <tbody>\n",
       "    <tr>\n",
       "      <th>count</th>\n",
       "      <td>9660.0</td>\n",
       "      <td>9660.000000</td>\n",
       "      <td>9660.0</td>\n",
       "      <td>9660.000000</td>\n",
       "      <td>9660.000000</td>\n",
       "      <td>9660.000000</td>\n",
       "      <td>9660.000000</td>\n",
       "      <td>9660.000000</td>\n",
       "    </tr>\n",
       "    <tr>\n",
       "      <th>mean</th>\n",
       "      <td>19.0</td>\n",
       "      <td>17339.223188</td>\n",
       "      <td>86.0</td>\n",
       "      <td>2009.642857</td>\n",
       "      <td>19.996362</td>\n",
       "      <td>19.543031</td>\n",
       "      <td>28.559623</td>\n",
       "      <td>14.016397</td>\n",
       "    </tr>\n",
       "    <tr>\n",
       "      <th>std</th>\n",
       "      <td>0.0</td>\n",
       "      <td>19805.358367</td>\n",
       "      <td>0.0</td>\n",
       "      <td>8.591197</td>\n",
       "      <td>14.103746</td>\n",
       "      <td>13.821169</td>\n",
       "      <td>20.927000</td>\n",
       "      <td>10.588862</td>\n",
       "    </tr>\n",
       "    <tr>\n",
       "      <th>min</th>\n",
       "      <td>19.0</td>\n",
       "      <td>1.000000</td>\n",
       "      <td>86.0</td>\n",
       "      <td>1990.000000</td>\n",
       "      <td>3.209680</td>\n",
       "      <td>3.180531</td>\n",
       "      <td>3.974080</td>\n",
       "      <td>1.634011</td>\n",
       "    </tr>\n",
       "    <tr>\n",
       "      <th>25%</th>\n",
       "      <td>19.0</td>\n",
       "      <td>175.000000</td>\n",
       "      <td>86.0</td>\n",
       "      <td>2005.000000</td>\n",
       "      <td>10.987509</td>\n",
       "      <td>10.815612</td>\n",
       "      <td>13.490512</td>\n",
       "      <td>8.064839</td>\n",
       "    </tr>\n",
       "    <tr>\n",
       "      <th>50%</th>\n",
       "      <td>19.0</td>\n",
       "      <td>4719.500000</td>\n",
       "      <td>86.0</td>\n",
       "      <td>2012.500000</td>\n",
       "      <td>14.960400</td>\n",
       "      <td>14.614382</td>\n",
       "      <td>21.980045</td>\n",
       "      <td>10.510472</td>\n",
       "    </tr>\n",
       "    <tr>\n",
       "      <th>75%</th>\n",
       "      <td>19.0</td>\n",
       "      <td>44560.000000</td>\n",
       "      <td>86.0</td>\n",
       "      <td>2016.000000</td>\n",
       "      <td>24.099236</td>\n",
       "      <td>23.528223</td>\n",
       "      <td>37.041457</td>\n",
       "      <td>15.846329</td>\n",
       "    </tr>\n",
       "    <tr>\n",
       "      <th>max</th>\n",
       "      <td>19.0</td>\n",
       "      <td>53432.000000</td>\n",
       "      <td>86.0</td>\n",
       "      <td>2019.000000</td>\n",
       "      <td>95.242644</td>\n",
       "      <td>95.056856</td>\n",
       "      <td>164.156420</td>\n",
       "      <td>86.944512</td>\n",
       "    </tr>\n",
       "  </tbody>\n",
       "</table>\n",
       "</div>"
      ],
      "text/plain": [
       "       measure_id   location_id  rei_id      year_id         mean  \\\n",
       "count      9660.0   9660.000000  9660.0  9660.000000  9660.000000   \n",
       "mean         19.0  17339.223188    86.0  2009.642857    19.996362   \n",
       "std           0.0  19805.358367     0.0     8.591197    14.103746   \n",
       "min          19.0      1.000000    86.0  1990.000000     3.209680   \n",
       "25%          19.0    175.000000    86.0  2005.000000    10.987509   \n",
       "50%          19.0   4719.500000    86.0  2012.500000    14.960400   \n",
       "75%          19.0  44560.000000    86.0  2016.000000    24.099236   \n",
       "max          19.0  53432.000000    86.0  2019.000000    95.242644   \n",
       "\n",
       "            median        upper        lower  \n",
       "count  9660.000000  9660.000000  9660.000000  \n",
       "mean     19.543031    28.559623    14.016397  \n",
       "std      13.821169    20.927000    10.588862  \n",
       "min       3.180531     3.974080     1.634011  \n",
       "25%      10.815612    13.490512     8.064839  \n",
       "50%      14.614382    21.980045    10.510472  \n",
       "75%      23.528223    37.041457    15.846329  \n",
       "max      95.056856   164.156420    86.944512  "
      ]
     },
     "execution_count": 5,
     "metadata": {},
     "output_type": "execute_result"
    }
   ],
   "source": [
    "df_pm.describe()"
   ]
  },
  {
   "cell_type": "code",
   "execution_count": 6,
   "id": "cfe288a6",
   "metadata": {},
   "outputs": [
    {
     "data": {
      "text/plain": [
       "North Africa and Middle East    28\n",
       "Georgia                         28\n",
       "South Asia                      28\n",
       "Stockholm                       28\n",
       "Sweden except Stockholm         28\n",
       "                                ..\n",
       "High-income Asia Pacific        14\n",
       "Turkana                         14\n",
       "Belgium                         14\n",
       "Sogn og Fjordane                14\n",
       "Toyama                          14\n",
       "Name: location_name, Length: 685, dtype: int64"
      ]
     },
     "execution_count": 6,
     "metadata": {},
     "output_type": "execute_result"
    }
   ],
   "source": [
    "df_pm.location_name.value_counts()"
   ]
  },
  {
   "cell_type": "markdown",
   "id": "69c22b0b",
   "metadata": {},
   "source": [
    "## SECOND (2) DATAFRAME, GLOBAL POPULATION"
   ]
  },
  {
   "cell_type": "markdown",
   "id": "1262bf70",
   "metadata": {},
   "source": [
    "### COMBINING THE 14 IDENTICAL CSV FILES WITH THE COUNTRIES POPULATION"
   ]
  },
  {
   "cell_type": "markdown",
   "id": "0ead9839",
   "metadata": {},
   "source": [
    "#### USING GLOB TO OPEN THE DOWNLOADED CSV FILES "
   ]
  },
  {
   "cell_type": "code",
   "execution_count": 7,
   "id": "31c2ae27",
   "metadata": {},
   "outputs": [],
   "source": [
    "## THIS WILL GENERATE A LIST OF ALL THE CSV FILES THE SPECIFIED DIRECTORY THAT MATCHES THE BELOW PATTERN\n",
    "files=glob('C://Users//Zeus//ZeusPython//POP 1990_2019//IHME_GBD_2019_POP_*_Y2020M10D15.CSV')\n",
    "# files\n"
   ]
  },
  {
   "cell_type": "markdown",
   "id": "a996f987",
   "metadata": {},
   "source": [
    "### READING THE FILES INTO A PANDAS DATAFRAME AND CREATING A LIST OF IT"
   ]
  },
  {
   "cell_type": "code",
   "execution_count": 8,
   "id": "52ec0ad4",
   "metadata": {},
   "outputs": [],
   "source": [
    "## EACH CSV FILE IN THE LIST (FILES) WILL BE READ INTO A DATAFRAME USING A FOR LOOP, THE INDIVIDUAL DATAFRAMES WILL THEN BE \n",
    "## ADDED INTO A LIST OF DATAFRAMES (df_all) \n",
    "\n",
    "df_all=[]\n",
    "for file in files:\n",
    "    df=pd.read_csv(file)\n",
    "    df_all.append(df)\n",
    "# print(df_all)\n"
   ]
  },
  {
   "cell_type": "markdown",
   "id": "64d8e0d9",
   "metadata": {},
   "source": [
    "### CONCATENATING BOTH  DATAFRAMES INTO A SINGLE DATAFRAME"
   ]
  },
  {
   "cell_type": "code",
   "execution_count": 9,
   "id": "66f5d7f2",
   "metadata": {},
   "outputs": [
    {
     "data": {
      "text/html": [
       "<div>\n",
       "<style scoped>\n",
       "    .dataframe tbody tr th:only-of-type {\n",
       "        vertical-align: middle;\n",
       "    }\n",
       "\n",
       "    .dataframe tbody tr th {\n",
       "        vertical-align: top;\n",
       "    }\n",
       "\n",
       "    .dataframe thead th {\n",
       "        text-align: right;\n",
       "    }\n",
       "</style>\n",
       "<table border=\"1\" class=\"dataframe\">\n",
       "  <thead>\n",
       "    <tr style=\"text-align: right;\">\n",
       "      <th></th>\n",
       "      <th>location_id</th>\n",
       "      <th>location_name</th>\n",
       "      <th>sex_id</th>\n",
       "      <th>sex_name</th>\n",
       "      <th>age_group_id</th>\n",
       "      <th>age_group_name</th>\n",
       "      <th>year_id</th>\n",
       "      <th>measure_id</th>\n",
       "      <th>measure_name</th>\n",
       "      <th>metric_id</th>\n",
       "      <th>metric_name</th>\n",
       "      <th>val</th>\n",
       "      <th>upper</th>\n",
       "      <th>lower</th>\n",
       "    </tr>\n",
       "  </thead>\n",
       "  <tbody>\n",
       "    <tr>\n",
       "      <th>0</th>\n",
       "      <td>1</td>\n",
       "      <td>Global</td>\n",
       "      <td>1</td>\n",
       "      <td>male</td>\n",
       "      <td>1</td>\n",
       "      <td>Under 5</td>\n",
       "      <td>1990</td>\n",
       "      <td>44</td>\n",
       "      <td>Population</td>\n",
       "      <td>1</td>\n",
       "      <td>Number</td>\n",
       "      <td>3.253906e+08</td>\n",
       "      <td>3.323687e+08</td>\n",
       "      <td>3.186139e+08</td>\n",
       "    </tr>\n",
       "    <tr>\n",
       "      <th>1</th>\n",
       "      <td>1</td>\n",
       "      <td>Global</td>\n",
       "      <td>1</td>\n",
       "      <td>male</td>\n",
       "      <td>2</td>\n",
       "      <td>Early Neonatal</td>\n",
       "      <td>1990</td>\n",
       "      <td>44</td>\n",
       "      <td>Population</td>\n",
       "      <td>1</td>\n",
       "      <td>Number</td>\n",
       "      <td>1.349236e+06</td>\n",
       "      <td>1.377880e+06</td>\n",
       "      <td>1.321656e+06</td>\n",
       "    </tr>\n",
       "    <tr>\n",
       "      <th>2</th>\n",
       "      <td>1</td>\n",
       "      <td>Global</td>\n",
       "      <td>1</td>\n",
       "      <td>male</td>\n",
       "      <td>3</td>\n",
       "      <td>Late Neonatal</td>\n",
       "      <td>1990</td>\n",
       "      <td>44</td>\n",
       "      <td>Population</td>\n",
       "      <td>1</td>\n",
       "      <td>Number</td>\n",
       "      <td>3.977538e+06</td>\n",
       "      <td>4.061891e+06</td>\n",
       "      <td>3.896573e+06</td>\n",
       "    </tr>\n",
       "    <tr>\n",
       "      <th>3</th>\n",
       "      <td>1</td>\n",
       "      <td>Global</td>\n",
       "      <td>1</td>\n",
       "      <td>male</td>\n",
       "      <td>4</td>\n",
       "      <td>Post Neonatal</td>\n",
       "      <td>1990</td>\n",
       "      <td>44</td>\n",
       "      <td>Population</td>\n",
       "      <td>1</td>\n",
       "      <td>Number</td>\n",
       "      <td>6.248355e+07</td>\n",
       "      <td>6.380593e+07</td>\n",
       "      <td>6.121612e+07</td>\n",
       "    </tr>\n",
       "    <tr>\n",
       "      <th>4</th>\n",
       "      <td>1</td>\n",
       "      <td>Global</td>\n",
       "      <td>1</td>\n",
       "      <td>male</td>\n",
       "      <td>5</td>\n",
       "      <td>1 to 4</td>\n",
       "      <td>1990</td>\n",
       "      <td>44</td>\n",
       "      <td>Population</td>\n",
       "      <td>1</td>\n",
       "      <td>Number</td>\n",
       "      <td>2.575802e+08</td>\n",
       "      <td>2.630934e+08</td>\n",
       "      <td>2.521675e+08</td>\n",
       "    </tr>\n",
       "    <tr>\n",
       "      <th>...</th>\n",
       "      <td>...</td>\n",
       "      <td>...</td>\n",
       "      <td>...</td>\n",
       "      <td>...</td>\n",
       "      <td>...</td>\n",
       "      <td>...</td>\n",
       "      <td>...</td>\n",
       "      <td>...</td>\n",
       "      <td>...</td>\n",
       "      <td>...</td>\n",
       "      <td>...</td>\n",
       "      <td>...</td>\n",
       "      <td>...</td>\n",
       "      <td>...</td>\n",
       "    </tr>\n",
       "    <tr>\n",
       "      <th>1332445</th>\n",
       "      <td>44638</td>\n",
       "      <td>North America</td>\n",
       "      <td>2</td>\n",
       "      <td>female</td>\n",
       "      <td>164</td>\n",
       "      <td>Birth</td>\n",
       "      <td>2019</td>\n",
       "      <td>44</td>\n",
       "      <td>Population</td>\n",
       "      <td>1</td>\n",
       "      <td>Number</td>\n",
       "      <td>2.050261e+06</td>\n",
       "      <td>2.193948e+06</td>\n",
       "      <td>1.919386e+06</td>\n",
       "    </tr>\n",
       "    <tr>\n",
       "      <th>1332446</th>\n",
       "      <td>44638</td>\n",
       "      <td>North America</td>\n",
       "      <td>3</td>\n",
       "      <td>both</td>\n",
       "      <td>164</td>\n",
       "      <td>Birth</td>\n",
       "      <td>2019</td>\n",
       "      <td>44</td>\n",
       "      <td>Population</td>\n",
       "      <td>1</td>\n",
       "      <td>Number</td>\n",
       "      <td>4.200444e+06</td>\n",
       "      <td>4.494820e+06</td>\n",
       "      <td>3.932317e+06</td>\n",
       "    </tr>\n",
       "    <tr>\n",
       "      <th>1332447</th>\n",
       "      <td>44642</td>\n",
       "      <td>Nordic Region</td>\n",
       "      <td>1</td>\n",
       "      <td>male</td>\n",
       "      <td>164</td>\n",
       "      <td>Birth</td>\n",
       "      <td>2019</td>\n",
       "      <td>44</td>\n",
       "      <td>Population</td>\n",
       "      <td>1</td>\n",
       "      <td>Number</td>\n",
       "      <td>1.498598e+05</td>\n",
       "      <td>1.642737e+05</td>\n",
       "      <td>1.369929e+05</td>\n",
       "    </tr>\n",
       "    <tr>\n",
       "      <th>1332448</th>\n",
       "      <td>44642</td>\n",
       "      <td>Nordic Region</td>\n",
       "      <td>2</td>\n",
       "      <td>female</td>\n",
       "      <td>164</td>\n",
       "      <td>Birth</td>\n",
       "      <td>2019</td>\n",
       "      <td>44</td>\n",
       "      <td>Population</td>\n",
       "      <td>1</td>\n",
       "      <td>Number</td>\n",
       "      <td>1.419441e+05</td>\n",
       "      <td>1.556075e+05</td>\n",
       "      <td>1.297482e+05</td>\n",
       "    </tr>\n",
       "    <tr>\n",
       "      <th>1332449</th>\n",
       "      <td>44642</td>\n",
       "      <td>Nordic Region</td>\n",
       "      <td>3</td>\n",
       "      <td>both</td>\n",
       "      <td>164</td>\n",
       "      <td>Birth</td>\n",
       "      <td>2019</td>\n",
       "      <td>44</td>\n",
       "      <td>Population</td>\n",
       "      <td>1</td>\n",
       "      <td>Number</td>\n",
       "      <td>2.918040e+05</td>\n",
       "      <td>3.198811e+05</td>\n",
       "      <td>2.667410e+05</td>\n",
       "    </tr>\n",
       "  </tbody>\n",
       "</table>\n",
       "<p>1332450 rows × 14 columns</p>\n",
       "</div>"
      ],
      "text/plain": [
       "         location_id  location_name  sex_id sex_name  age_group_id  \\\n",
       "0                  1         Global       1     male             1   \n",
       "1                  1         Global       1     male             2   \n",
       "2                  1         Global       1     male             3   \n",
       "3                  1         Global       1     male             4   \n",
       "4                  1         Global       1     male             5   \n",
       "...              ...            ...     ...      ...           ...   \n",
       "1332445        44638  North America       2   female           164   \n",
       "1332446        44638  North America       3     both           164   \n",
       "1332447        44642  Nordic Region       1     male           164   \n",
       "1332448        44642  Nordic Region       2   female           164   \n",
       "1332449        44642  Nordic Region       3     both           164   \n",
       "\n",
       "         age_group_name  year_id  measure_id measure_name  metric_id  \\\n",
       "0               Under 5     1990          44   Population          1   \n",
       "1        Early Neonatal     1990          44   Population          1   \n",
       "2         Late Neonatal     1990          44   Population          1   \n",
       "3         Post Neonatal     1990          44   Population          1   \n",
       "4                1 to 4     1990          44   Population          1   \n",
       "...                 ...      ...         ...          ...        ...   \n",
       "1332445           Birth     2019          44   Population          1   \n",
       "1332446           Birth     2019          44   Population          1   \n",
       "1332447           Birth     2019          44   Population          1   \n",
       "1332448           Birth     2019          44   Population          1   \n",
       "1332449           Birth     2019          44   Population          1   \n",
       "\n",
       "        metric_name           val         upper         lower  \n",
       "0            Number  3.253906e+08  3.323687e+08  3.186139e+08  \n",
       "1            Number  1.349236e+06  1.377880e+06  1.321656e+06  \n",
       "2            Number  3.977538e+06  4.061891e+06  3.896573e+06  \n",
       "3            Number  6.248355e+07  6.380593e+07  6.121612e+07  \n",
       "4            Number  2.575802e+08  2.630934e+08  2.521675e+08  \n",
       "...             ...           ...           ...           ...  \n",
       "1332445      Number  2.050261e+06  2.193948e+06  1.919386e+06  \n",
       "1332446      Number  4.200444e+06  4.494820e+06  3.932317e+06  \n",
       "1332447      Number  1.498598e+05  1.642737e+05  1.369929e+05  \n",
       "1332448      Number  1.419441e+05  1.556075e+05  1.297482e+05  \n",
       "1332449      Number  2.918040e+05  3.198811e+05  2.667410e+05  \n",
       "\n",
       "[1332450 rows x 14 columns]"
      ]
     },
     "execution_count": 9,
     "metadata": {},
     "output_type": "execute_result"
    }
   ],
   "source": [
    "### COMBINING ALL THE DATAFRAMES IN df_all INTO A SINGLE GIANT DATAFRAME\n",
    "df_total=pd.concat(df_all, ignore_index=True)\n",
    "\n",
    "### VISUALLY INSPECTING THE RESULATANT DATAFRAME FOR ANY QUALITY OR STRUCTURAL ISSUES\n",
    "df_total"
   ]
  },
  {
   "cell_type": "markdown",
   "id": "dbec8a85",
   "metadata": {},
   "source": [
    "### PROGRAMMATICALLY INSPECTING THE DATAFRAME FOR ANY QUALITY OR STRUCTURAL ISSUES"
   ]
  },
  {
   "cell_type": "code",
   "execution_count": 10,
   "id": "ee3c725a",
   "metadata": {
    "scrolled": true
   },
   "outputs": [
    {
     "name": "stdout",
     "output_type": "stream",
     "text": [
      "<class 'pandas.core.frame.DataFrame'>\n",
      "RangeIndex: 1332450 entries, 0 to 1332449\n",
      "Data columns (total 14 columns):\n",
      " #   Column          Non-Null Count    Dtype  \n",
      "---  ------          --------------    -----  \n",
      " 0   location_id     1332450 non-null  int64  \n",
      " 1   location_name   1332450 non-null  object \n",
      " 2   sex_id          1332450 non-null  int64  \n",
      " 3   sex_name        1332450 non-null  object \n",
      " 4   age_group_id    1332450 non-null  int64  \n",
      " 5   age_group_name  1332450 non-null  object \n",
      " 6   year_id         1332450 non-null  int64  \n",
      " 7   measure_id      1332450 non-null  int64  \n",
      " 8   measure_name    1332450 non-null  object \n",
      " 9   metric_id       1332450 non-null  int64  \n",
      " 10  metric_name     1332450 non-null  object \n",
      " 11  val             1332450 non-null  float64\n",
      " 12  upper           1322580 non-null  float64\n",
      " 13  lower           1322580 non-null  float64\n",
      "dtypes: float64(3), int64(6), object(5)\n",
      "memory usage: 142.3+ MB\n"
     ]
    }
   ],
   "source": [
    "df_total.info()"
   ]
  },
  {
   "cell_type": "markdown",
   "id": "627c6a64",
   "metadata": {},
   "source": [
    "#### TO GET THE TOTAL POPULATION FOR EACH COUNTRY, THE ROW THAT CONTAINS  ALL AGES AND BOTH SEX IS USED"
   ]
  },
  {
   "cell_type": "code",
   "execution_count": 11,
   "id": "a5d0a3bc",
   "metadata": {
    "scrolled": true
   },
   "outputs": [
    {
     "data": {
      "text/html": [
       "<div>\n",
       "<style scoped>\n",
       "    .dataframe tbody tr th:only-of-type {\n",
       "        vertical-align: middle;\n",
       "    }\n",
       "\n",
       "    .dataframe tbody tr th {\n",
       "        vertical-align: top;\n",
       "    }\n",
       "\n",
       "    .dataframe thead th {\n",
       "        text-align: right;\n",
       "    }\n",
       "</style>\n",
       "<table border=\"1\" class=\"dataframe\">\n",
       "  <thead>\n",
       "    <tr style=\"text-align: right;\">\n",
       "      <th></th>\n",
       "      <th>location_id</th>\n",
       "      <th>location_name</th>\n",
       "      <th>sex_id</th>\n",
       "      <th>sex_name</th>\n",
       "      <th>age_group_id</th>\n",
       "      <th>age_group_name</th>\n",
       "      <th>year_id</th>\n",
       "      <th>measure_id</th>\n",
       "      <th>measure_name</th>\n",
       "      <th>metric_id</th>\n",
       "      <th>metric_name</th>\n",
       "      <th>val</th>\n",
       "      <th>upper</th>\n",
       "      <th>lower</th>\n",
       "    </tr>\n",
       "  </thead>\n",
       "  <tbody>\n",
       "    <tr>\n",
       "      <th>97</th>\n",
       "      <td>1</td>\n",
       "      <td>Global</td>\n",
       "      <td>3</td>\n",
       "      <td>both</td>\n",
       "      <td>22</td>\n",
       "      <td>All Ages</td>\n",
       "      <td>1990</td>\n",
       "      <td>44</td>\n",
       "      <td>Population</td>\n",
       "      <td>1</td>\n",
       "      <td>Number</td>\n",
       "      <td>5.349848e+09</td>\n",
       "      <td>5.459639e+09</td>\n",
       "      <td>5.238894e+09</td>\n",
       "    </tr>\n",
       "    <tr>\n",
       "      <th>211</th>\n",
       "      <td>4</td>\n",
       "      <td>Southeast Asia, East Asia, and Oceania</td>\n",
       "      <td>3</td>\n",
       "      <td>both</td>\n",
       "      <td>22</td>\n",
       "      <td>All Ages</td>\n",
       "      <td>1990</td>\n",
       "      <td>44</td>\n",
       "      <td>Population</td>\n",
       "      <td>1</td>\n",
       "      <td>Number</td>\n",
       "      <td>1.698396e+09</td>\n",
       "      <td>1.783752e+09</td>\n",
       "      <td>1.614754e+09</td>\n",
       "    </tr>\n",
       "    <tr>\n",
       "      <th>325</th>\n",
       "      <td>5</td>\n",
       "      <td>East Asia</td>\n",
       "      <td>3</td>\n",
       "      <td>both</td>\n",
       "      <td>22</td>\n",
       "      <td>All Ages</td>\n",
       "      <td>1990</td>\n",
       "      <td>44</td>\n",
       "      <td>Population</td>\n",
       "      <td>1</td>\n",
       "      <td>Number</td>\n",
       "      <td>1.225136e+09</td>\n",
       "      <td>1.313523e+09</td>\n",
       "      <td>1.145541e+09</td>\n",
       "    </tr>\n",
       "    <tr>\n",
       "      <th>439</th>\n",
       "      <td>6</td>\n",
       "      <td>China</td>\n",
       "      <td>3</td>\n",
       "      <td>both</td>\n",
       "      <td>22</td>\n",
       "      <td>All Ages</td>\n",
       "      <td>1990</td>\n",
       "      <td>44</td>\n",
       "      <td>Population</td>\n",
       "      <td>1</td>\n",
       "      <td>Number</td>\n",
       "      <td>1.183682e+09</td>\n",
       "      <td>1.271614e+09</td>\n",
       "      <td>1.103091e+09</td>\n",
       "    </tr>\n",
       "    <tr>\n",
       "      <th>553</th>\n",
       "      <td>7</td>\n",
       "      <td>Democratic People's Republic of Korea</td>\n",
       "      <td>3</td>\n",
       "      <td>both</td>\n",
       "      <td>22</td>\n",
       "      <td>All Ages</td>\n",
       "      <td>1990</td>\n",
       "      <td>44</td>\n",
       "      <td>Population</td>\n",
       "      <td>1</td>\n",
       "      <td>Number</td>\n",
       "      <td>2.105486e+07</td>\n",
       "      <td>2.281730e+07</td>\n",
       "      <td>1.926409e+07</td>\n",
       "    </tr>\n",
       "    <tr>\n",
       "      <th>...</th>\n",
       "      <td>...</td>\n",
       "      <td>...</td>\n",
       "      <td>...</td>\n",
       "      <td>...</td>\n",
       "      <td>...</td>\n",
       "      <td>...</td>\n",
       "      <td>...</td>\n",
       "      <td>...</td>\n",
       "      <td>...</td>\n",
       "      <td>...</td>\n",
       "      <td>...</td>\n",
       "      <td>...</td>\n",
       "      <td>...</td>\n",
       "      <td>...</td>\n",
       "    </tr>\n",
       "    <tr>\n",
       "      <th>1313650</th>\n",
       "      <td>44788</td>\n",
       "      <td>Torbay</td>\n",
       "      <td>3</td>\n",
       "      <td>both</td>\n",
       "      <td>22</td>\n",
       "      <td>All Ages</td>\n",
       "      <td>2019</td>\n",
       "      <td>44</td>\n",
       "      <td>Population</td>\n",
       "      <td>1</td>\n",
       "      <td>Number</td>\n",
       "      <td>1.322564e+05</td>\n",
       "      <td>1.606240e+05</td>\n",
       "      <td>1.071519e+05</td>\n",
       "    </tr>\n",
       "    <tr>\n",
       "      <th>1313764</th>\n",
       "      <td>44789</td>\n",
       "      <td>Bristol, City of</td>\n",
       "      <td>3</td>\n",
       "      <td>both</td>\n",
       "      <td>22</td>\n",
       "      <td>All Ages</td>\n",
       "      <td>2019</td>\n",
       "      <td>44</td>\n",
       "      <td>Population</td>\n",
       "      <td>1</td>\n",
       "      <td>Number</td>\n",
       "      <td>4.660143e+05</td>\n",
       "      <td>5.627355e+05</td>\n",
       "      <td>3.784990e+05</td>\n",
       "    </tr>\n",
       "    <tr>\n",
       "      <th>1313878</th>\n",
       "      <td>44790</td>\n",
       "      <td>Bournemouth</td>\n",
       "      <td>3</td>\n",
       "      <td>both</td>\n",
       "      <td>22</td>\n",
       "      <td>All Ages</td>\n",
       "      <td>2019</td>\n",
       "      <td>44</td>\n",
       "      <td>Population</td>\n",
       "      <td>1</td>\n",
       "      <td>Number</td>\n",
       "      <td>2.025274e+05</td>\n",
       "      <td>2.434534e+05</td>\n",
       "      <td>1.665657e+05</td>\n",
       "    </tr>\n",
       "    <tr>\n",
       "      <th>1313992</th>\n",
       "      <td>44791</td>\n",
       "      <td>Cornwall</td>\n",
       "      <td>3</td>\n",
       "      <td>both</td>\n",
       "      <td>22</td>\n",
       "      <td>All Ages</td>\n",
       "      <td>2019</td>\n",
       "      <td>44</td>\n",
       "      <td>Population</td>\n",
       "      <td>1</td>\n",
       "      <td>Number</td>\n",
       "      <td>5.634929e+05</td>\n",
       "      <td>6.765452e+05</td>\n",
       "      <td>4.592616e+05</td>\n",
       "    </tr>\n",
       "    <tr>\n",
       "      <th>1314106</th>\n",
       "      <td>44792</td>\n",
       "      <td>Plymouth</td>\n",
       "      <td>3</td>\n",
       "      <td>both</td>\n",
       "      <td>22</td>\n",
       "      <td>All Ages</td>\n",
       "      <td>2019</td>\n",
       "      <td>44</td>\n",
       "      <td>Population</td>\n",
       "      <td>1</td>\n",
       "      <td>Number</td>\n",
       "      <td>2.729840e+05</td>\n",
       "      <td>3.245964e+05</td>\n",
       "      <td>2.260703e+05</td>\n",
       "    </tr>\n",
       "  </tbody>\n",
       "</table>\n",
       "<p>9450 rows × 14 columns</p>\n",
       "</div>"
      ],
      "text/plain": [
       "         location_id                           location_name  sex_id sex_name  \\\n",
       "97                 1                                  Global       3     both   \n",
       "211                4  Southeast Asia, East Asia, and Oceania       3     both   \n",
       "325                5                               East Asia       3     both   \n",
       "439                6                                   China       3     both   \n",
       "553                7   Democratic People's Republic of Korea       3     both   \n",
       "...              ...                                     ...     ...      ...   \n",
       "1313650        44788                                  Torbay       3     both   \n",
       "1313764        44789                        Bristol, City of       3     both   \n",
       "1313878        44790                             Bournemouth       3     both   \n",
       "1313992        44791                                Cornwall       3     both   \n",
       "1314106        44792                                Plymouth       3     both   \n",
       "\n",
       "         age_group_id age_group_name  year_id  measure_id measure_name  \\\n",
       "97                 22       All Ages     1990          44   Population   \n",
       "211                22       All Ages     1990          44   Population   \n",
       "325                22       All Ages     1990          44   Population   \n",
       "439                22       All Ages     1990          44   Population   \n",
       "553                22       All Ages     1990          44   Population   \n",
       "...               ...            ...      ...         ...          ...   \n",
       "1313650            22       All Ages     2019          44   Population   \n",
       "1313764            22       All Ages     2019          44   Population   \n",
       "1313878            22       All Ages     2019          44   Population   \n",
       "1313992            22       All Ages     2019          44   Population   \n",
       "1314106            22       All Ages     2019          44   Population   \n",
       "\n",
       "         metric_id metric_name           val         upper         lower  \n",
       "97               1      Number  5.349848e+09  5.459639e+09  5.238894e+09  \n",
       "211              1      Number  1.698396e+09  1.783752e+09  1.614754e+09  \n",
       "325              1      Number  1.225136e+09  1.313523e+09  1.145541e+09  \n",
       "439              1      Number  1.183682e+09  1.271614e+09  1.103091e+09  \n",
       "553              1      Number  2.105486e+07  2.281730e+07  1.926409e+07  \n",
       "...            ...         ...           ...           ...           ...  \n",
       "1313650          1      Number  1.322564e+05  1.606240e+05  1.071519e+05  \n",
       "1313764          1      Number  4.660143e+05  5.627355e+05  3.784990e+05  \n",
       "1313878          1      Number  2.025274e+05  2.434534e+05  1.665657e+05  \n",
       "1313992          1      Number  5.634929e+05  6.765452e+05  4.592616e+05  \n",
       "1314106          1      Number  2.729840e+05  3.245964e+05  2.260703e+05  \n",
       "\n",
       "[9450 rows x 14 columns]"
      ]
     },
     "execution_count": 11,
     "metadata": {},
     "output_type": "execute_result"
    }
   ],
   "source": [
    "### SELECTING BOTH SEXIES AND ALL AGES \n",
    "df_total=df_total.query('age_group_name==\"All Ages\" & sex_name==\"both\"')\n",
    "\n",
    "### VISUALLY INSPECTING THE DATA\n",
    "df_total"
   ]
  },
  {
   "cell_type": "code",
   "execution_count": 12,
   "id": "a36f29c2",
   "metadata": {},
   "outputs": [
    {
     "name": "stdout",
     "output_type": "stream",
     "text": [
      "<class 'pandas.core.frame.DataFrame'>\n",
      "Int64Index: 9450 entries, 97 to 1314106\n",
      "Data columns (total 14 columns):\n",
      " #   Column          Non-Null Count  Dtype  \n",
      "---  ------          --------------  -----  \n",
      " 0   location_id     9450 non-null   int64  \n",
      " 1   location_name   9450 non-null   object \n",
      " 2   sex_id          9450 non-null   int64  \n",
      " 3   sex_name        9450 non-null   object \n",
      " 4   age_group_id    9450 non-null   int64  \n",
      " 5   age_group_name  9450 non-null   object \n",
      " 6   year_id         9450 non-null   int64  \n",
      " 7   measure_id      9450 non-null   int64  \n",
      " 8   measure_name    9450 non-null   object \n",
      " 9   metric_id       9450 non-null   int64  \n",
      " 10  metric_name     9450 non-null   object \n",
      " 11  val             9450 non-null   float64\n",
      " 12  upper           9380 non-null   float64\n",
      " 13  lower           9380 non-null   float64\n",
      "dtypes: float64(3), int64(6), object(5)\n",
      "memory usage: 1.1+ MB\n"
     ]
    }
   ],
   "source": [
    "### PROGRAMMATICALLY INSPECTING THE DATA\n",
    "df_total.info()"
   ]
  },
  {
   "cell_type": "markdown",
   "id": "1c474cab",
   "metadata": {},
   "source": [
    "## THIRD (3) DATAFRAME , GLOBAL MORTALITY AND MORTALITY IN AFRICAN COUNTRIES"
   ]
  },
  {
   "cell_type": "markdown",
   "id": "82597181",
   "metadata": {},
   "source": [
    "### LOADING THE THIRD CSV FILES "
   ]
  },
  {
   "cell_type": "code",
   "execution_count": 13,
   "id": "6fecff44",
   "metadata": {},
   "outputs": [
    {
     "data": {
      "text/html": [
       "<div>\n",
       "<style scoped>\n",
       "    .dataframe tbody tr th:only-of-type {\n",
       "        vertical-align: middle;\n",
       "    }\n",
       "\n",
       "    .dataframe tbody tr th {\n",
       "        vertical-align: top;\n",
       "    }\n",
       "\n",
       "    .dataframe thead th {\n",
       "        text-align: right;\n",
       "    }\n",
       "</style>\n",
       "<table border=\"1\" class=\"dataframe\">\n",
       "  <thead>\n",
       "    <tr style=\"text-align: right;\">\n",
       "      <th></th>\n",
       "      <th>measure_id</th>\n",
       "      <th>measure_name</th>\n",
       "      <th>location_id</th>\n",
       "      <th>location_name</th>\n",
       "      <th>sex_id</th>\n",
       "      <th>sex_name</th>\n",
       "      <th>age_id</th>\n",
       "      <th>age_name</th>\n",
       "      <th>cause_id</th>\n",
       "      <th>cause_name</th>\n",
       "      <th>metric_id</th>\n",
       "      <th>metric_name</th>\n",
       "      <th>year</th>\n",
       "      <th>val</th>\n",
       "      <th>upper</th>\n",
       "      <th>lower</th>\n",
       "    </tr>\n",
       "  </thead>\n",
       "  <tbody>\n",
       "    <tr>\n",
       "      <th>0</th>\n",
       "      <td>1</td>\n",
       "      <td>Deaths</td>\n",
       "      <td>1</td>\n",
       "      <td>Global</td>\n",
       "      <td>3</td>\n",
       "      <td>Both</td>\n",
       "      <td>5</td>\n",
       "      <td>1-4 years</td>\n",
       "      <td>294</td>\n",
       "      <td>All causes</td>\n",
       "      <td>1</td>\n",
       "      <td>Number</td>\n",
       "      <td>1990</td>\n",
       "      <td>3.857335e+06</td>\n",
       "      <td>4.109773e+06</td>\n",
       "      <td>3.613960e+06</td>\n",
       "    </tr>\n",
       "    <tr>\n",
       "      <th>1</th>\n",
       "      <td>1</td>\n",
       "      <td>Deaths</td>\n",
       "      <td>1</td>\n",
       "      <td>Global</td>\n",
       "      <td>3</td>\n",
       "      <td>Both</td>\n",
       "      <td>5</td>\n",
       "      <td>1-4 years</td>\n",
       "      <td>294</td>\n",
       "      <td>All causes</td>\n",
       "      <td>2</td>\n",
       "      <td>Percent</td>\n",
       "      <td>1990</td>\n",
       "      <td>1.000000e+00</td>\n",
       "      <td>1.000000e+00</td>\n",
       "      <td>1.000000e+00</td>\n",
       "    </tr>\n",
       "    <tr>\n",
       "      <th>2</th>\n",
       "      <td>1</td>\n",
       "      <td>Deaths</td>\n",
       "      <td>1</td>\n",
       "      <td>Global</td>\n",
       "      <td>3</td>\n",
       "      <td>Both</td>\n",
       "      <td>5</td>\n",
       "      <td>1-4 years</td>\n",
       "      <td>294</td>\n",
       "      <td>All causes</td>\n",
       "      <td>3</td>\n",
       "      <td>Rate</td>\n",
       "      <td>1990</td>\n",
       "      <td>7.706417e+02</td>\n",
       "      <td>8.210754e+02</td>\n",
       "      <td>7.220188e+02</td>\n",
       "    </tr>\n",
       "    <tr>\n",
       "      <th>3</th>\n",
       "      <td>1</td>\n",
       "      <td>Deaths</td>\n",
       "      <td>1</td>\n",
       "      <td>Global</td>\n",
       "      <td>3</td>\n",
       "      <td>Both</td>\n",
       "      <td>6</td>\n",
       "      <td>5-9 years</td>\n",
       "      <td>294</td>\n",
       "      <td>All causes</td>\n",
       "      <td>1</td>\n",
       "      <td>Number</td>\n",
       "      <td>1990</td>\n",
       "      <td>8.211325e+05</td>\n",
       "      <td>8.537963e+05</td>\n",
       "      <td>7.928175e+05</td>\n",
       "    </tr>\n",
       "    <tr>\n",
       "      <th>4</th>\n",
       "      <td>1</td>\n",
       "      <td>Deaths</td>\n",
       "      <td>1</td>\n",
       "      <td>Global</td>\n",
       "      <td>3</td>\n",
       "      <td>Both</td>\n",
       "      <td>6</td>\n",
       "      <td>5-9 years</td>\n",
       "      <td>294</td>\n",
       "      <td>All causes</td>\n",
       "      <td>2</td>\n",
       "      <td>Percent</td>\n",
       "      <td>1990</td>\n",
       "      <td>1.000000e+00</td>\n",
       "      <td>1.000000e+00</td>\n",
       "      <td>1.000000e+00</td>\n",
       "    </tr>\n",
       "    <tr>\n",
       "      <th>...</th>\n",
       "      <td>...</td>\n",
       "      <td>...</td>\n",
       "      <td>...</td>\n",
       "      <td>...</td>\n",
       "      <td>...</td>\n",
       "      <td>...</td>\n",
       "      <td>...</td>\n",
       "      <td>...</td>\n",
       "      <td>...</td>\n",
       "      <td>...</td>\n",
       "      <td>...</td>\n",
       "      <td>...</td>\n",
       "      <td>...</td>\n",
       "      <td>...</td>\n",
       "      <td>...</td>\n",
       "      <td>...</td>\n",
       "    </tr>\n",
       "    <tr>\n",
       "      <th>78955</th>\n",
       "      <td>1</td>\n",
       "      <td>Deaths</td>\n",
       "      <td>185</td>\n",
       "      <td>Rwanda</td>\n",
       "      <td>3</td>\n",
       "      <td>Both</td>\n",
       "      <td>31</td>\n",
       "      <td>85-89 years</td>\n",
       "      <td>294</td>\n",
       "      <td>All causes</td>\n",
       "      <td>2</td>\n",
       "      <td>Percent</td>\n",
       "      <td>2013</td>\n",
       "      <td>1.000000e+00</td>\n",
       "      <td>1.000000e+00</td>\n",
       "      <td>1.000000e+00</td>\n",
       "    </tr>\n",
       "    <tr>\n",
       "      <th>78956</th>\n",
       "      <td>1</td>\n",
       "      <td>Deaths</td>\n",
       "      <td>185</td>\n",
       "      <td>Rwanda</td>\n",
       "      <td>3</td>\n",
       "      <td>Both</td>\n",
       "      <td>31</td>\n",
       "      <td>85-89 years</td>\n",
       "      <td>294</td>\n",
       "      <td>All causes</td>\n",
       "      <td>3</td>\n",
       "      <td>Rate</td>\n",
       "      <td>2013</td>\n",
       "      <td>1.554546e+04</td>\n",
       "      <td>1.700445e+04</td>\n",
       "      <td>1.452944e+04</td>\n",
       "    </tr>\n",
       "    <tr>\n",
       "      <th>78957</th>\n",
       "      <td>1</td>\n",
       "      <td>Deaths</td>\n",
       "      <td>185</td>\n",
       "      <td>Rwanda</td>\n",
       "      <td>3</td>\n",
       "      <td>Both</td>\n",
       "      <td>32</td>\n",
       "      <td>90-94 years</td>\n",
       "      <td>294</td>\n",
       "      <td>All causes</td>\n",
       "      <td>1</td>\n",
       "      <td>Number</td>\n",
       "      <td>2013</td>\n",
       "      <td>7.134505e+02</td>\n",
       "      <td>7.718960e+02</td>\n",
       "      <td>6.524314e+02</td>\n",
       "    </tr>\n",
       "    <tr>\n",
       "      <th>78958</th>\n",
       "      <td>1</td>\n",
       "      <td>Deaths</td>\n",
       "      <td>185</td>\n",
       "      <td>Rwanda</td>\n",
       "      <td>3</td>\n",
       "      <td>Both</td>\n",
       "      <td>32</td>\n",
       "      <td>90-94 years</td>\n",
       "      <td>294</td>\n",
       "      <td>All causes</td>\n",
       "      <td>2</td>\n",
       "      <td>Percent</td>\n",
       "      <td>2013</td>\n",
       "      <td>1.000000e+00</td>\n",
       "      <td>1.000000e+00</td>\n",
       "      <td>1.000000e+00</td>\n",
       "    </tr>\n",
       "    <tr>\n",
       "      <th>78959</th>\n",
       "      <td>1</td>\n",
       "      <td>Deaths</td>\n",
       "      <td>185</td>\n",
       "      <td>Rwanda</td>\n",
       "      <td>3</td>\n",
       "      <td>Both</td>\n",
       "      <td>32</td>\n",
       "      <td>90-94 years</td>\n",
       "      <td>294</td>\n",
       "      <td>All causes</td>\n",
       "      <td>3</td>\n",
       "      <td>Rate</td>\n",
       "      <td>2013</td>\n",
       "      <td>2.190238e+04</td>\n",
       "      <td>2.369661e+04</td>\n",
       "      <td>2.002914e+04</td>\n",
       "    </tr>\n",
       "  </tbody>\n",
       "</table>\n",
       "<p>78960 rows × 16 columns</p>\n",
       "</div>"
      ],
      "text/plain": [
       "       measure_id measure_name  location_id location_name  sex_id sex_name  \\\n",
       "0               1       Deaths            1        Global       3     Both   \n",
       "1               1       Deaths            1        Global       3     Both   \n",
       "2               1       Deaths            1        Global       3     Both   \n",
       "3               1       Deaths            1        Global       3     Both   \n",
       "4               1       Deaths            1        Global       3     Both   \n",
       "...           ...          ...          ...           ...     ...      ...   \n",
       "78955           1       Deaths          185        Rwanda       3     Both   \n",
       "78956           1       Deaths          185        Rwanda       3     Both   \n",
       "78957           1       Deaths          185        Rwanda       3     Both   \n",
       "78958           1       Deaths          185        Rwanda       3     Both   \n",
       "78959           1       Deaths          185        Rwanda       3     Both   \n",
       "\n",
       "       age_id     age_name  cause_id  cause_name  metric_id metric_name  year  \\\n",
       "0           5    1-4 years       294  All causes          1      Number  1990   \n",
       "1           5    1-4 years       294  All causes          2     Percent  1990   \n",
       "2           5    1-4 years       294  All causes          3        Rate  1990   \n",
       "3           6    5-9 years       294  All causes          1      Number  1990   \n",
       "4           6    5-9 years       294  All causes          2     Percent  1990   \n",
       "...       ...          ...       ...         ...        ...         ...   ...   \n",
       "78955      31  85-89 years       294  All causes          2     Percent  2013   \n",
       "78956      31  85-89 years       294  All causes          3        Rate  2013   \n",
       "78957      32  90-94 years       294  All causes          1      Number  2013   \n",
       "78958      32  90-94 years       294  All causes          2     Percent  2013   \n",
       "78959      32  90-94 years       294  All causes          3        Rate  2013   \n",
       "\n",
       "                val         upper         lower  \n",
       "0      3.857335e+06  4.109773e+06  3.613960e+06  \n",
       "1      1.000000e+00  1.000000e+00  1.000000e+00  \n",
       "2      7.706417e+02  8.210754e+02  7.220188e+02  \n",
       "3      8.211325e+05  8.537963e+05  7.928175e+05  \n",
       "4      1.000000e+00  1.000000e+00  1.000000e+00  \n",
       "...             ...           ...           ...  \n",
       "78955  1.000000e+00  1.000000e+00  1.000000e+00  \n",
       "78956  1.554546e+04  1.700445e+04  1.452944e+04  \n",
       "78957  7.134505e+02  7.718960e+02  6.524314e+02  \n",
       "78958  1.000000e+00  1.000000e+00  1.000000e+00  \n",
       "78959  2.190238e+04  2.369661e+04  2.002914e+04  \n",
       "\n",
       "[78960 rows x 16 columns]"
      ]
     },
     "execution_count": 13,
     "metadata": {},
     "output_type": "execute_result"
    }
   ],
   "source": [
    "### LOADING THE GLOBAL MORTALITY DATA\n",
    "df_mort=pd.read_csv('gbd_mortality.csv')\n",
    "df_mort"
   ]
  },
  {
   "cell_type": "code",
   "execution_count": 14,
   "id": "9bf002ba",
   "metadata": {},
   "outputs": [
    {
     "name": "stdout",
     "output_type": "stream",
     "text": [
      "<class 'pandas.core.frame.DataFrame'>\n",
      "RangeIndex: 78960 entries, 0 to 78959\n",
      "Data columns (total 16 columns):\n",
      " #   Column         Non-Null Count  Dtype  \n",
      "---  ------         --------------  -----  \n",
      " 0   measure_id     78960 non-null  int64  \n",
      " 1   measure_name   78960 non-null  object \n",
      " 2   location_id    78960 non-null  int64  \n",
      " 3   location_name  78960 non-null  object \n",
      " 4   sex_id         78960 non-null  int64  \n",
      " 5   sex_name       78960 non-null  object \n",
      " 6   age_id         78960 non-null  int64  \n",
      " 7   age_name       78960 non-null  object \n",
      " 8   cause_id       78960 non-null  int64  \n",
      " 9   cause_name     78960 non-null  object \n",
      " 10  metric_id      78960 non-null  int64  \n",
      " 11  metric_name    78960 non-null  object \n",
      " 12  year           78960 non-null  int64  \n",
      " 13  val            78960 non-null  float64\n",
      " 14  upper          78960 non-null  float64\n",
      " 15  lower          78960 non-null  float64\n",
      "dtypes: float64(3), int64(7), object(6)\n",
      "memory usage: 9.6+ MB\n"
     ]
    }
   ],
   "source": [
    "df_mort.info()"
   ]
  },
  {
   "cell_type": "markdown",
   "id": "e693e8ae",
   "metadata": {},
   "source": [
    "### TO GET THE TOTAL MORTALITY FOR THE COUNTRY, THE ROW THAT CONTAINS  ALL AGES AND BOTH SEX WILL BE SELECTED"
   ]
  },
  {
   "cell_type": "code",
   "execution_count": 15,
   "id": "d84cbaf5",
   "metadata": {},
   "outputs": [],
   "source": [
    "## QUERY BY THE DEATHS SINCE THERE OTHER MEASURES eg DALYS , BUT WE ARE ONLY INTERESTED IN DEATHS, \n",
    "### THE METRIC IS EXPRESSED EITHER PERCENT OR NUMBER, AM ONLY INTERESTED IN THE NUMBER.\n",
    "## THEN WE GROUPBY THE LOCATION NAME AND YEAR, AGGREGATE BY THE VAL \n",
    "df_mort=df_mort.query('measure_name==\"Deaths\" & metric_name==\"Number\"').groupby(['location_name','year']).agg(total_deaths=('val', 'sum'))\n",
    "df_mort=df_mort.reset_index()"
   ]
  },
  {
   "cell_type": "code",
   "execution_count": 16,
   "id": "43175a4a",
   "metadata": {
    "scrolled": true
   },
   "outputs": [
    {
     "name": "stdout",
     "output_type": "stream",
     "text": [
      "<class 'pandas.core.frame.DataFrame'>\n",
      "RangeIndex: 658 entries, 0 to 657\n",
      "Data columns (total 3 columns):\n",
      " #   Column         Non-Null Count  Dtype  \n",
      "---  ------         --------------  -----  \n",
      " 0   location_name  658 non-null    object \n",
      " 1   year           658 non-null    int64  \n",
      " 2   total_deaths   658 non-null    float64\n",
      "dtypes: float64(1), int64(1), object(1)\n",
      "memory usage: 15.5+ KB\n"
     ]
    }
   ],
   "source": [
    "df_mort.info()"
   ]
  },
  {
   "cell_type": "code",
   "execution_count": 17,
   "id": "97bc546a",
   "metadata": {
    "scrolled": true
   },
   "outputs": [
    {
     "data": {
      "text/html": [
       "<div>\n",
       "<style scoped>\n",
       "    .dataframe tbody tr th:only-of-type {\n",
       "        vertical-align: middle;\n",
       "    }\n",
       "\n",
       "    .dataframe tbody tr th {\n",
       "        vertical-align: top;\n",
       "    }\n",
       "\n",
       "    .dataframe thead th {\n",
       "        text-align: right;\n",
       "    }\n",
       "</style>\n",
       "<table border=\"1\" class=\"dataframe\">\n",
       "  <thead>\n",
       "    <tr style=\"text-align: right;\">\n",
       "      <th></th>\n",
       "      <th>location_name</th>\n",
       "      <th>year</th>\n",
       "      <th>total_deaths</th>\n",
       "    </tr>\n",
       "  </thead>\n",
       "  <tbody>\n",
       "    <tr>\n",
       "      <th>0</th>\n",
       "      <td>Angola</td>\n",
       "      <td>1990</td>\n",
       "      <td>170546.730125</td>\n",
       "    </tr>\n",
       "    <tr>\n",
       "      <th>1</th>\n",
       "      <td>Angola</td>\n",
       "      <td>1995</td>\n",
       "      <td>187627.525264</td>\n",
       "    </tr>\n",
       "    <tr>\n",
       "      <th>2</th>\n",
       "      <td>Angola</td>\n",
       "      <td>2000</td>\n",
       "      <td>203968.099661</td>\n",
       "    </tr>\n",
       "    <tr>\n",
       "      <th>3</th>\n",
       "      <td>Angola</td>\n",
       "      <td>2005</td>\n",
       "      <td>203358.431395</td>\n",
       "    </tr>\n",
       "    <tr>\n",
       "      <th>4</th>\n",
       "      <td>Angola</td>\n",
       "      <td>2010</td>\n",
       "      <td>193635.827070</td>\n",
       "    </tr>\n",
       "    <tr>\n",
       "      <th>...</th>\n",
       "      <td>...</td>\n",
       "      <td>...</td>\n",
       "      <td>...</td>\n",
       "    </tr>\n",
       "    <tr>\n",
       "      <th>653</th>\n",
       "      <td>Zimbabwe</td>\n",
       "      <td>2015</td>\n",
       "      <td>132634.454387</td>\n",
       "    </tr>\n",
       "    <tr>\n",
       "      <th>654</th>\n",
       "      <td>Zimbabwe</td>\n",
       "      <td>2016</td>\n",
       "      <td>130643.301098</td>\n",
       "    </tr>\n",
       "    <tr>\n",
       "      <th>655</th>\n",
       "      <td>Zimbabwe</td>\n",
       "      <td>2017</td>\n",
       "      <td>128826.468239</td>\n",
       "    </tr>\n",
       "    <tr>\n",
       "      <th>656</th>\n",
       "      <td>Zimbabwe</td>\n",
       "      <td>2018</td>\n",
       "      <td>126042.916534</td>\n",
       "    </tr>\n",
       "    <tr>\n",
       "      <th>657</th>\n",
       "      <td>Zimbabwe</td>\n",
       "      <td>2019</td>\n",
       "      <td>126080.443604</td>\n",
       "    </tr>\n",
       "  </tbody>\n",
       "</table>\n",
       "<p>658 rows × 3 columns</p>\n",
       "</div>"
      ],
      "text/plain": [
       "    location_name  year   total_deaths\n",
       "0          Angola  1990  170546.730125\n",
       "1          Angola  1995  187627.525264\n",
       "2          Angola  2000  203968.099661\n",
       "3          Angola  2005  203358.431395\n",
       "4          Angola  2010  193635.827070\n",
       "..            ...   ...            ...\n",
       "653      Zimbabwe  2015  132634.454387\n",
       "654      Zimbabwe  2016  130643.301098\n",
       "655      Zimbabwe  2017  128826.468239\n",
       "656      Zimbabwe  2018  126042.916534\n",
       "657      Zimbabwe  2019  126080.443604\n",
       "\n",
       "[658 rows x 3 columns]"
      ]
     },
     "execution_count": 17,
     "metadata": {},
     "output_type": "execute_result"
    }
   ],
   "source": [
    "### VISUALLY INSPECTING THE DATAFRAME \n",
    "df_mort"
   ]
  },
  {
   "cell_type": "markdown",
   "id": "4f5a1ca6",
   "metadata": {},
   "source": [
    "## RENAMING COLUMNS IN df_mort TO MAKE IT POSSIBLE TO MERGE WITH OTHER DATAFRAMES "
   ]
  },
  {
   "cell_type": "code",
   "execution_count": 18,
   "id": "2a575fa2",
   "metadata": {
    "scrolled": true
   },
   "outputs": [
    {
     "data": {
      "text/html": [
       "<div>\n",
       "<style scoped>\n",
       "    .dataframe tbody tr th:only-of-type {\n",
       "        vertical-align: middle;\n",
       "    }\n",
       "\n",
       "    .dataframe tbody tr th {\n",
       "        vertical-align: top;\n",
       "    }\n",
       "\n",
       "    .dataframe thead th {\n",
       "        text-align: right;\n",
       "    }\n",
       "</style>\n",
       "<table border=\"1\" class=\"dataframe\">\n",
       "  <thead>\n",
       "    <tr style=\"text-align: right;\">\n",
       "      <th></th>\n",
       "      <th>location_name</th>\n",
       "      <th>year_id</th>\n",
       "      <th>total_deaths</th>\n",
       "    </tr>\n",
       "  </thead>\n",
       "  <tbody>\n",
       "    <tr>\n",
       "      <th>0</th>\n",
       "      <td>Angola</td>\n",
       "      <td>1990</td>\n",
       "      <td>170546.730125</td>\n",
       "    </tr>\n",
       "    <tr>\n",
       "      <th>1</th>\n",
       "      <td>Angola</td>\n",
       "      <td>1995</td>\n",
       "      <td>187627.525264</td>\n",
       "    </tr>\n",
       "    <tr>\n",
       "      <th>2</th>\n",
       "      <td>Angola</td>\n",
       "      <td>2000</td>\n",
       "      <td>203968.099661</td>\n",
       "    </tr>\n",
       "    <tr>\n",
       "      <th>3</th>\n",
       "      <td>Angola</td>\n",
       "      <td>2005</td>\n",
       "      <td>203358.431395</td>\n",
       "    </tr>\n",
       "    <tr>\n",
       "      <th>4</th>\n",
       "      <td>Angola</td>\n",
       "      <td>2010</td>\n",
       "      <td>193635.827070</td>\n",
       "    </tr>\n",
       "    <tr>\n",
       "      <th>...</th>\n",
       "      <td>...</td>\n",
       "      <td>...</td>\n",
       "      <td>...</td>\n",
       "    </tr>\n",
       "    <tr>\n",
       "      <th>653</th>\n",
       "      <td>Zimbabwe</td>\n",
       "      <td>2015</td>\n",
       "      <td>132634.454387</td>\n",
       "    </tr>\n",
       "    <tr>\n",
       "      <th>654</th>\n",
       "      <td>Zimbabwe</td>\n",
       "      <td>2016</td>\n",
       "      <td>130643.301098</td>\n",
       "    </tr>\n",
       "    <tr>\n",
       "      <th>655</th>\n",
       "      <td>Zimbabwe</td>\n",
       "      <td>2017</td>\n",
       "      <td>128826.468239</td>\n",
       "    </tr>\n",
       "    <tr>\n",
       "      <th>656</th>\n",
       "      <td>Zimbabwe</td>\n",
       "      <td>2018</td>\n",
       "      <td>126042.916534</td>\n",
       "    </tr>\n",
       "    <tr>\n",
       "      <th>657</th>\n",
       "      <td>Zimbabwe</td>\n",
       "      <td>2019</td>\n",
       "      <td>126080.443604</td>\n",
       "    </tr>\n",
       "  </tbody>\n",
       "</table>\n",
       "<p>658 rows × 3 columns</p>\n",
       "</div>"
      ],
      "text/plain": [
       "    location_name  year_id   total_deaths\n",
       "0          Angola     1990  170546.730125\n",
       "1          Angola     1995  187627.525264\n",
       "2          Angola     2000  203968.099661\n",
       "3          Angola     2005  203358.431395\n",
       "4          Angola     2010  193635.827070\n",
       "..            ...      ...            ...\n",
       "653      Zimbabwe     2015  132634.454387\n",
       "654      Zimbabwe     2016  130643.301098\n",
       "655      Zimbabwe     2017  128826.468239\n",
       "656      Zimbabwe     2018  126042.916534\n",
       "657      Zimbabwe     2019  126080.443604\n",
       "\n",
       "[658 rows x 3 columns]"
      ]
     },
     "execution_count": 18,
     "metadata": {},
     "output_type": "execute_result"
    }
   ],
   "source": [
    "df_mort.rename(columns={'year':'year_id'}, inplace=True)\n",
    "df_mort"
   ]
  },
  {
   "cell_type": "markdown",
   "id": "12b763e5",
   "metadata": {},
   "source": [
    "### DROPPING COLUMNS FROM ALL THE DATAFRAMES THAT WONT BE USED FOR ANALYSIS"
   ]
  },
  {
   "cell_type": "code",
   "execution_count": 19,
   "id": "0d540464",
   "metadata": {},
   "outputs": [],
   "source": [
    "### DROPPING REDUNDANT COLUMNS\n",
    "df_pm=df_pm.drop(columns=['measure_id', 'measure_name', 'location_id',  'rei_id',\n",
    "       'rei_name',  'unit',  'median', 'upper', 'lower'])\n",
    "\n",
    "df_total=df_total.drop(columns=['location_id',  'sex_id', 'sex_name', 'age_group_id',\n",
    "       'age_group_name',  'measure_id', 'measure_name', 'metric_id',\n",
    "       'metric_name', 'upper', 'lower'])"
   ]
  },
  {
   "cell_type": "markdown",
   "id": "c574d878",
   "metadata": {},
   "source": [
    "## THE THREE DATAFRAMES HAVE BEEN LOADED INSPECTED AND READY TO BE MERGED"
   ]
  },
  {
   "cell_type": "code",
   "execution_count": 20,
   "id": "9265cf17",
   "metadata": {},
   "outputs": [],
   "source": [
    "### MERGING THE DATAFRAMES, MERGING THE FIRST TWO DATAFRAMES\n",
    "df_1=pd.merge(df_pm, df_total, on=['location_name','year_id'], how='inner')\n",
    "\n",
    "#### MERGING WITH THE THIRD DATAFRAME\n",
    "df_pan=pd.merge(df_1,df_mort, on=['location_name','year_id'], how='inner' )"
   ]
  },
  {
   "cell_type": "code",
   "execution_count": 21,
   "id": "db101a83",
   "metadata": {},
   "outputs": [
    {
     "data": {
      "text/html": [
       "<div>\n",
       "<style scoped>\n",
       "    .dataframe tbody tr th:only-of-type {\n",
       "        vertical-align: middle;\n",
       "    }\n",
       "\n",
       "    .dataframe tbody tr th {\n",
       "        vertical-align: top;\n",
       "    }\n",
       "\n",
       "    .dataframe thead th {\n",
       "        text-align: right;\n",
       "    }\n",
       "</style>\n",
       "<table border=\"1\" class=\"dataframe\">\n",
       "  <thead>\n",
       "    <tr style=\"text-align: right;\">\n",
       "      <th></th>\n",
       "      <th>location_name</th>\n",
       "      <th>year_id</th>\n",
       "      <th>mean</th>\n",
       "      <th>val</th>\n",
       "      <th>total_deaths</th>\n",
       "    </tr>\n",
       "  </thead>\n",
       "  <tbody>\n",
       "    <tr>\n",
       "      <th>0</th>\n",
       "      <td>Global</td>\n",
       "      <td>1990</td>\n",
       "      <td>40.815004</td>\n",
       "      <td>5.349848e+09</td>\n",
       "      <td>4.630587e+07</td>\n",
       "    </tr>\n",
       "    <tr>\n",
       "      <th>1</th>\n",
       "      <td>Global</td>\n",
       "      <td>1995</td>\n",
       "      <td>39.467526</td>\n",
       "      <td>5.755320e+09</td>\n",
       "      <td>4.854631e+07</td>\n",
       "    </tr>\n",
       "    <tr>\n",
       "      <th>2</th>\n",
       "      <td>Global</td>\n",
       "      <td>2000</td>\n",
       "      <td>41.116011</td>\n",
       "      <td>6.155409e+09</td>\n",
       "      <td>5.014612e+07</td>\n",
       "    </tr>\n",
       "    <tr>\n",
       "      <th>3</th>\n",
       "      <td>Global</td>\n",
       "      <td>2005</td>\n",
       "      <td>40.806087</td>\n",
       "      <td>6.561892e+09</td>\n",
       "      <td>5.138402e+07</td>\n",
       "    </tr>\n",
       "    <tr>\n",
       "      <th>4</th>\n",
       "      <td>Global</td>\n",
       "      <td>2010</td>\n",
       "      <td>42.706024</td>\n",
       "      <td>6.987319e+09</td>\n",
       "      <td>5.182380e+07</td>\n",
       "    </tr>\n",
       "    <tr>\n",
       "      <th>5</th>\n",
       "      <td>Global</td>\n",
       "      <td>2011</td>\n",
       "      <td>44.405446</td>\n",
       "      <td>7.071902e+09</td>\n",
       "      <td>5.177339e+07</td>\n",
       "    </tr>\n",
       "    <tr>\n",
       "      <th>6</th>\n",
       "      <td>Global</td>\n",
       "      <td>2012</td>\n",
       "      <td>46.045173</td>\n",
       "      <td>7.157215e+09</td>\n",
       "      <td>5.190867e+07</td>\n",
       "    </tr>\n",
       "    <tr>\n",
       "      <th>7</th>\n",
       "      <td>Global</td>\n",
       "      <td>2013</td>\n",
       "      <td>47.124051</td>\n",
       "      <td>7.242361e+09</td>\n",
       "      <td>5.220821e+07</td>\n",
       "    </tr>\n",
       "    <tr>\n",
       "      <th>8</th>\n",
       "      <td>Global</td>\n",
       "      <td>2014</td>\n",
       "      <td>47.355297</td>\n",
       "      <td>7.326206e+09</td>\n",
       "      <td>5.250552e+07</td>\n",
       "    </tr>\n",
       "    <tr>\n",
       "      <th>9</th>\n",
       "      <td>Global</td>\n",
       "      <td>2015</td>\n",
       "      <td>46.192752</td>\n",
       "      <td>7.409941e+09</td>\n",
       "      <td>5.302161e+07</td>\n",
       "    </tr>\n",
       "    <tr>\n",
       "      <th>10</th>\n",
       "      <td>Global</td>\n",
       "      <td>2016</td>\n",
       "      <td>45.426808</td>\n",
       "      <td>7.494564e+09</td>\n",
       "      <td>5.340587e+07</td>\n",
       "    </tr>\n",
       "    <tr>\n",
       "      <th>11</th>\n",
       "      <td>Global</td>\n",
       "      <td>2017</td>\n",
       "      <td>42.596859</td>\n",
       "      <td>7.578009e+09</td>\n",
       "      <td>5.376822e+07</td>\n",
       "    </tr>\n",
       "    <tr>\n",
       "      <th>12</th>\n",
       "      <td>Global</td>\n",
       "      <td>2018</td>\n",
       "      <td>42.839566</td>\n",
       "      <td>7.658565e+09</td>\n",
       "      <td>5.443122e+07</td>\n",
       "    </tr>\n",
       "    <tr>\n",
       "      <th>13</th>\n",
       "      <td>Global</td>\n",
       "      <td>2019</td>\n",
       "      <td>42.575396</td>\n",
       "      <td>7.737465e+09</td>\n",
       "      <td>5.516309e+07</td>\n",
       "    </tr>\n",
       "  </tbody>\n",
       "</table>\n",
       "</div>"
      ],
      "text/plain": [
       "   location_name  year_id       mean           val  total_deaths\n",
       "0         Global     1990  40.815004  5.349848e+09  4.630587e+07\n",
       "1         Global     1995  39.467526  5.755320e+09  4.854631e+07\n",
       "2         Global     2000  41.116011  6.155409e+09  5.014612e+07\n",
       "3         Global     2005  40.806087  6.561892e+09  5.138402e+07\n",
       "4         Global     2010  42.706024  6.987319e+09  5.182380e+07\n",
       "5         Global     2011  44.405446  7.071902e+09  5.177339e+07\n",
       "6         Global     2012  46.045173  7.157215e+09  5.190867e+07\n",
       "7         Global     2013  47.124051  7.242361e+09  5.220821e+07\n",
       "8         Global     2014  47.355297  7.326206e+09  5.250552e+07\n",
       "9         Global     2015  46.192752  7.409941e+09  5.302161e+07\n",
       "10        Global     2016  45.426808  7.494564e+09  5.340587e+07\n",
       "11        Global     2017  42.596859  7.578009e+09  5.376822e+07\n",
       "12        Global     2018  42.839566  7.658565e+09  5.443122e+07\n",
       "13        Global     2019  42.575396  7.737465e+09  5.516309e+07"
      ]
     },
     "execution_count": 21,
     "metadata": {},
     "output_type": "execute_result"
    }
   ],
   "source": [
    "df_pan.query('location_name==\"Global\"')"
   ]
  },
  {
   "cell_type": "markdown",
   "id": "c3c3057b",
   "metadata": {},
   "source": [
    "### RENAMING COLUMNS TO MEANINGFUL NAMES "
   ]
  },
  {
   "cell_type": "code",
   "execution_count": 22,
   "id": "292e7453",
   "metadata": {},
   "outputs": [
    {
     "data": {
      "text/html": [
       "<div>\n",
       "<style scoped>\n",
       "    .dataframe tbody tr th:only-of-type {\n",
       "        vertical-align: middle;\n",
       "    }\n",
       "\n",
       "    .dataframe tbody tr th {\n",
       "        vertical-align: top;\n",
       "    }\n",
       "\n",
       "    .dataframe thead th {\n",
       "        text-align: right;\n",
       "    }\n",
       "</style>\n",
       "<table border=\"1\" class=\"dataframe\">\n",
       "  <thead>\n",
       "    <tr style=\"text-align: right;\">\n",
       "      <th></th>\n",
       "      <th>country</th>\n",
       "      <th>year</th>\n",
       "      <th>mean_pm</th>\n",
       "      <th>population</th>\n",
       "      <th>total_deaths</th>\n",
       "    </tr>\n",
       "  </thead>\n",
       "  <tbody>\n",
       "    <tr>\n",
       "      <th>0</th>\n",
       "      <td>Global</td>\n",
       "      <td>1990</td>\n",
       "      <td>40.815004</td>\n",
       "      <td>5.349848e+09</td>\n",
       "      <td>4.630587e+07</td>\n",
       "    </tr>\n",
       "    <tr>\n",
       "      <th>1</th>\n",
       "      <td>Global</td>\n",
       "      <td>1995</td>\n",
       "      <td>39.467526</td>\n",
       "      <td>5.755320e+09</td>\n",
       "      <td>4.854631e+07</td>\n",
       "    </tr>\n",
       "    <tr>\n",
       "      <th>2</th>\n",
       "      <td>Global</td>\n",
       "      <td>2000</td>\n",
       "      <td>41.116011</td>\n",
       "      <td>6.155409e+09</td>\n",
       "      <td>5.014612e+07</td>\n",
       "    </tr>\n",
       "    <tr>\n",
       "      <th>3</th>\n",
       "      <td>Global</td>\n",
       "      <td>2005</td>\n",
       "      <td>40.806087</td>\n",
       "      <td>6.561892e+09</td>\n",
       "      <td>5.138402e+07</td>\n",
       "    </tr>\n",
       "    <tr>\n",
       "      <th>4</th>\n",
       "      <td>Global</td>\n",
       "      <td>2010</td>\n",
       "      <td>42.706024</td>\n",
       "      <td>6.987319e+09</td>\n",
       "      <td>5.182380e+07</td>\n",
       "    </tr>\n",
       "    <tr>\n",
       "      <th>...</th>\n",
       "      <td>...</td>\n",
       "      <td>...</td>\n",
       "      <td>...</td>\n",
       "      <td>...</td>\n",
       "      <td>...</td>\n",
       "    </tr>\n",
       "    <tr>\n",
       "      <th>653</th>\n",
       "      <td>South Sudan</td>\n",
       "      <td>2015</td>\n",
       "      <td>40.604799</td>\n",
       "      <td>9.177646e+06</td>\n",
       "      <td>8.176975e+04</td>\n",
       "    </tr>\n",
       "    <tr>\n",
       "      <th>654</th>\n",
       "      <td>South Sudan</td>\n",
       "      <td>2016</td>\n",
       "      <td>37.941475</td>\n",
       "      <td>8.736283e+06</td>\n",
       "      <td>7.727091e+04</td>\n",
       "    </tr>\n",
       "    <tr>\n",
       "      <th>655</th>\n",
       "      <td>South Sudan</td>\n",
       "      <td>2017</td>\n",
       "      <td>38.662900</td>\n",
       "      <td>8.776602e+06</td>\n",
       "      <td>7.534605e+04</td>\n",
       "    </tr>\n",
       "    <tr>\n",
       "      <th>656</th>\n",
       "      <td>South Sudan</td>\n",
       "      <td>2018</td>\n",
       "      <td>37.977058</td>\n",
       "      <td>9.044163e+06</td>\n",
       "      <td>7.374784e+04</td>\n",
       "    </tr>\n",
       "    <tr>\n",
       "      <th>657</th>\n",
       "      <td>South Sudan</td>\n",
       "      <td>2019</td>\n",
       "      <td>37.552778</td>\n",
       "      <td>9.282963e+06</td>\n",
       "      <td>7.233327e+04</td>\n",
       "    </tr>\n",
       "  </tbody>\n",
       "</table>\n",
       "<p>658 rows × 5 columns</p>\n",
       "</div>"
      ],
      "text/plain": [
       "         country  year    mean_pm    population  total_deaths\n",
       "0         Global  1990  40.815004  5.349848e+09  4.630587e+07\n",
       "1         Global  1995  39.467526  5.755320e+09  4.854631e+07\n",
       "2         Global  2000  41.116011  6.155409e+09  5.014612e+07\n",
       "3         Global  2005  40.806087  6.561892e+09  5.138402e+07\n",
       "4         Global  2010  42.706024  6.987319e+09  5.182380e+07\n",
       "..           ...   ...        ...           ...           ...\n",
       "653  South Sudan  2015  40.604799  9.177646e+06  8.176975e+04\n",
       "654  South Sudan  2016  37.941475  8.736283e+06  7.727091e+04\n",
       "655  South Sudan  2017  38.662900  8.776602e+06  7.534605e+04\n",
       "656  South Sudan  2018  37.977058  9.044163e+06  7.374784e+04\n",
       "657  South Sudan  2019  37.552778  9.282963e+06  7.233327e+04\n",
       "\n",
       "[658 rows x 5 columns]"
      ]
     },
     "execution_count": 22,
     "metadata": {},
     "output_type": "execute_result"
    }
   ],
   "source": [
    "## RENAME COLUMNS \n",
    "\n",
    "df_pan.rename(columns={'location_name': 'country', 'year_id':'year', 'mean': 'mean_pm', 'val': 'population'}, inplace=True)\n",
    "df_pan"
   ]
  },
  {
   "cell_type": "markdown",
   "id": "836d2bde",
   "metadata": {},
   "source": [
    "## SAVING THE FINAL DATAFRAME AS CSV FILE\n"
   ]
  },
  {
   "cell_type": "code",
   "execution_count": 23,
   "id": "56b0573f",
   "metadata": {},
   "outputs": [],
   "source": [
    "#### SAVING THE FINAL CLEANED DATAFRAME\n",
    "\n",
    "### THIS MASTER DATAFRAME HAS VALUES FOR GLOBAL, AND AFRICAN COUNTRIES ONLY\n",
    "\n",
    "df_pan.to_csv('clean_pm.csv', index=False)"
   ]
  },
  {
   "cell_type": "code",
   "execution_count": 24,
   "id": "80f9d80f",
   "metadata": {},
   "outputs": [
    {
     "data": {
      "text/html": [
       "<div>\n",
       "<style scoped>\n",
       "    .dataframe tbody tr th:only-of-type {\n",
       "        vertical-align: middle;\n",
       "    }\n",
       "\n",
       "    .dataframe tbody tr th {\n",
       "        vertical-align: top;\n",
       "    }\n",
       "\n",
       "    .dataframe thead th {\n",
       "        text-align: right;\n",
       "    }\n",
       "</style>\n",
       "<table border=\"1\" class=\"dataframe\">\n",
       "  <thead>\n",
       "    <tr style=\"text-align: right;\">\n",
       "      <th></th>\n",
       "      <th>country</th>\n",
       "      <th>year</th>\n",
       "      <th>mean_pm</th>\n",
       "      <th>population</th>\n",
       "      <th>total_deaths</th>\n",
       "    </tr>\n",
       "  </thead>\n",
       "  <tbody>\n",
       "    <tr>\n",
       "      <th>0</th>\n",
       "      <td>Global</td>\n",
       "      <td>1990</td>\n",
       "      <td>40.815004</td>\n",
       "      <td>5.349848e+09</td>\n",
       "      <td>4.630587e+07</td>\n",
       "    </tr>\n",
       "    <tr>\n",
       "      <th>1</th>\n",
       "      <td>Global</td>\n",
       "      <td>1995</td>\n",
       "      <td>39.467526</td>\n",
       "      <td>5.755320e+09</td>\n",
       "      <td>4.854631e+07</td>\n",
       "    </tr>\n",
       "    <tr>\n",
       "      <th>2</th>\n",
       "      <td>Global</td>\n",
       "      <td>2000</td>\n",
       "      <td>41.116011</td>\n",
       "      <td>6.155409e+09</td>\n",
       "      <td>5.014612e+07</td>\n",
       "    </tr>\n",
       "    <tr>\n",
       "      <th>3</th>\n",
       "      <td>Global</td>\n",
       "      <td>2005</td>\n",
       "      <td>40.806087</td>\n",
       "      <td>6.561892e+09</td>\n",
       "      <td>5.138402e+07</td>\n",
       "    </tr>\n",
       "    <tr>\n",
       "      <th>4</th>\n",
       "      <td>Global</td>\n",
       "      <td>2010</td>\n",
       "      <td>42.706024</td>\n",
       "      <td>6.987319e+09</td>\n",
       "      <td>5.182380e+07</td>\n",
       "    </tr>\n",
       "  </tbody>\n",
       "</table>\n",
       "</div>"
      ],
      "text/plain": [
       "  country  year    mean_pm    population  total_deaths\n",
       "0  Global  1990  40.815004  5.349848e+09  4.630587e+07\n",
       "1  Global  1995  39.467526  5.755320e+09  4.854631e+07\n",
       "2  Global  2000  41.116011  6.155409e+09  5.014612e+07\n",
       "3  Global  2005  40.806087  6.561892e+09  5.138402e+07\n",
       "4  Global  2010  42.706024  6.987319e+09  5.182380e+07"
      ]
     },
     "execution_count": 24,
     "metadata": {},
     "output_type": "execute_result"
    }
   ],
   "source": [
    "df=pd.read_csv('clean_pm.csv')\n",
    "df.head()"
   ]
  },
  {
   "cell_type": "markdown",
   "id": "73602fe4",
   "metadata": {},
   "source": [
    "# EXPLORATORY DATA ANALYSIS (EDA)"
   ]
  },
  {
   "cell_type": "markdown",
   "id": "e7b9c719",
   "metadata": {},
   "source": [
    "## Q1 What is the Global trend of mean particulate matter ?\n",
    "\n"
   ]
  },
  {
   "cell_type": "markdown",
   "id": "4971d5b8",
   "metadata": {},
   "source": [
    "### Selecting the global data from the entire dataset"
   ]
  },
  {
   "cell_type": "code",
   "execution_count": 25,
   "id": "1ef734d8",
   "metadata": {},
   "outputs": [],
   "source": [
    "df_global=df[df['country']=='Global']\n",
    "# df_global"
   ]
  },
  {
   "cell_type": "markdown",
   "id": "f994c755",
   "metadata": {},
   "source": [
    "#### PLOT A LINE GRAPH OF THE GLOBAL MEAN PM CONCENTRATION TO SHOW THE TREND OF PM CONCENTRATION FROM 1990-2019"
   ]
  },
  {
   "cell_type": "code",
   "execution_count": 26,
   "id": "637ba32e",
   "metadata": {
    "scrolled": true
   },
   "outputs": [
    {
     "data": {
      "image/png": "[encoded data removed]",
      "text/plain": [
       "<Figure size 1440x432 with 1 Axes>"
      ]
     },
     "metadata": {
      "needs_background": "light"
     },
     "output_type": "display_data"
    }
   ],
   "source": [
    "### A LINE GRAPH TO SHOW THE TREND OF GLOBAL MEAN PM CONCENTRATION\n",
    "fig, ax = plt.subplots(figsize=(20,6))\n",
    "sns.lineplot(data=df_global, x='year', y='mean_pm')\n",
    "plt.title ('Global trend of PM concentration')\n",
    "plt.show()"
   ]
  },
  {
   "cell_type": "markdown",
   "id": "d5878bda",
   "metadata": {},
   "source": [
    "## Q2 What is the trend of mean particulate matter in Ghana and how does it compare with the global trend?"
   ]
  },
  {
   "cell_type": "markdown",
   "id": "18fc1593",
   "metadata": {},
   "source": [
    "### Selecting the data from Ghana from the entire dataset"
   ]
  },
  {
   "cell_type": "code",
   "execution_count": 27,
   "id": "4ba96faa",
   "metadata": {},
   "outputs": [],
   "source": [
    "df_gh=df[df['country']=='Ghana']\n",
    "# df_gh"
   ]
  },
  {
   "cell_type": "markdown",
   "id": "caad016b",
   "metadata": {},
   "source": [
    "#### PLOT A LINE GRAPH OF GHANA MEAN PM CONCENTRATION TO SHOW THE TREND OF PM CONCENTRATION FROM 1990-2019"
   ]
  },
  {
   "cell_type": "code",
   "execution_count": 28,
   "id": "fca5aef6",
   "metadata": {},
   "outputs": [
    {
     "data": {
      "image/png": "[encoded data removed]",
      "text/plain": [
       "<Figure size 1440x576 with 1 Axes>"
      ]
     },
     "metadata": {
      "needs_background": "light"
     },
     "output_type": "display_data"
    }
   ],
   "source": [
    "### A LINE GRAPH TO SHOW THE TREND OF GHANA MEAN PM CONCENTRATION\n",
    "fig, ax = plt.subplots(figsize=(20,8))\n",
    "sns.lineplot(data=df_gh, x='year', y='mean_pm')\n",
    "plt.title('Trend of PM concentration in Ghana')\n",
    "plt.show();"
   ]
  },
  {
   "cell_type": "markdown",
   "id": "a133cc9a",
   "metadata": {},
   "source": [
    "### Selecting the  Global and Ghana data from the entire dataset"
   ]
  },
  {
   "cell_type": "code",
   "execution_count": 29,
   "id": "54e6e7b9",
   "metadata": {},
   "outputs": [],
   "source": [
    "df_ggh=df.query(\"country == 'Global' or country== 'Ghana' \")\n",
    "# df_ggh\n",
    "\n"
   ]
  },
  {
   "cell_type": "markdown",
   "id": "df079ad9",
   "metadata": {},
   "source": [
    "#### PLOTTING  A LINEPLOT TO SHOW THE TREND OF MEAN PM CONCENTRATION FROM 1990-2019 IN GHANA AND GLOBALLY"
   ]
  },
  {
   "cell_type": "code",
   "execution_count": 30,
   "id": "e41e21ea",
   "metadata": {
    "scrolled": false
   },
   "outputs": [
    {
     "data": {
      "image/png": "[encoded data removed]",
      "text/plain": [
       "<Figure size 1440x360 with 1 Axes>"
      ]
     },
     "metadata": {
      "needs_background": "light"
     },
     "output_type": "display_data"
    }
   ],
   "source": [
    "###  A LINEPLOT TO SHOW THE TREND OF MEAN PM CONCENTRATION FROM 1990-2019 IN GHANA AND GLOBALLY\n",
    "fig, ax = plt.subplots(figsize=(20,5))\n",
    "sns.lineplot(data=df_ggh, x='year', y='mean_pm', style='country', hue=\"country\")\n",
    "plt.title ('Trend of PM concentration Globally Vs Ghana')\n",
    "plt.show();"
   ]
  },
  {
   "cell_type": "markdown",
   "id": "9a4ca4ad",
   "metadata": {},
   "source": [
    "## Q3 Which African countries has the highest mean PM concentration?"
   ]
  },
  {
   "cell_type": "markdown",
   "id": "9cdf1913",
   "metadata": {},
   "source": [
    "### TOP 10 AFRICAN COUNTRIES WITH THE HIGHEST PM CONCENTRATION"
   ]
  },
  {
   "cell_type": "code",
   "execution_count": 31,
   "id": "e1943d36",
   "metadata": {},
   "outputs": [
    {
     "data": {
      "image/png": "[encoded data removed]",
      "text/plain": [
       "<Figure size 1440x576 with 1 Axes>"
      ]
     },
     "metadata": {
      "needs_background": "light"
     },
     "output_type": "display_data"
    }
   ],
   "source": [
    "### TOP THE 10 AFRICAN COUNTRIES WITH THE HIGHEST PM CONCENTRATION\n",
    "fig, ax = plt.subplots(figsize=(20,8))\n",
    "df.groupby('country')['mean_pm'].mean().sort_values(ascending=False).head(10).plot(kind='bar')\n",
    "plt.title('Top 10 Countries with the highest mean PM concentration')\n",
    "plt.ylabel('Mean PM concentration')\n",
    "plt.show();\n"
   ]
  },
  {
   "cell_type": "markdown",
   "id": "e214ff22",
   "metadata": {},
   "source": [
    "# CHOROPLETH MAP USING THE GEOPANDAS LIBRARY"
   ]
  },
  {
   "cell_type": "code",
   "execution_count": 32,
   "id": "ca6f3968",
   "metadata": {},
   "outputs": [],
   "source": [
    "import geopandas\n",
    "world = geopandas.read_file(geopandas.datasets.get_path('naturalearth_lowres'))\n",
    "\n",
    "cities = geopandas.read_file(geopandas.datasets.get_path('naturalearth_cities'))"
   ]
  },
  {
   "cell_type": "code",
   "execution_count": 37,
   "id": "06ce6459",
   "metadata": {},
   "outputs": [],
   "source": [
    "country=df.country.unique()\n",
    "# country"
   ]
  },
  {
   "cell_type": "code",
   "execution_count": 38,
   "id": "c5707159",
   "metadata": {},
   "outputs": [],
   "source": [
    "## SELECTING THE AFRICAN CONTINENT FROM THE DATA\n",
    "african=world.query('continent==\"Africa\"')\n",
    "# african"
   ]
  },
  {
   "cell_type": "markdown",
   "id": "63ac5398",
   "metadata": {},
   "source": [
    "## SELECTING ONLY AFRICAN COUNTRIES"
   ]
  },
  {
   "cell_type": "code",
   "execution_count": 47,
   "id": "f415c69f",
   "metadata": {},
   "outputs": [],
   "source": [
    "african_1=african[african['name'].isin(country)]\n",
    "african_1.drop(columns=['pop_est','continent', 'iso_a3','gdp_md_est'], inplace=True)\n",
    "african_1.rename(columns={'name':'country'}, inplace=True)\n",
    "# african_1"
   ]
  },
  {
   "cell_type": "markdown",
   "id": "c7a21520",
   "metadata": {},
   "source": [
    "## MERGING THE TWO DATAFRAMES, THE GEODATAFRAME WITH THE PM DATA"
   ]
  },
  {
   "cell_type": "code",
   "execution_count": 48,
   "id": "bac9c6d9",
   "metadata": {
    "scrolled": true
   },
   "outputs": [],
   "source": [
    "df_all=african_1.merge(df_pan, on=['country'], how='inner')\n",
    "# df_all"
   ]
  },
  {
   "cell_type": "markdown",
   "id": "e6c64bf9",
   "metadata": {},
   "source": [
    "## PLOTTING A CHOROPLETH MAP OF THE DISTRIBUTION OF THE MEAN PM CONCENTRATION IN THE AFRICAN CONTINENT"
   ]
  },
  {
   "cell_type": "code",
   "execution_count": 75,
   "id": "cb5e5872",
   "metadata": {},
   "outputs": [
    {
     "data": {
      "image/png": "[encoded data removed]",
      "text/plain": [
       "<Figure size 1440x1080 with 2 Axes>"
      ]
     },
     "metadata": {
      "needs_background": "light"
     },
     "output_type": "display_data"
    }
   ],
   "source": [
    "fig,ax=plt.subplots(figsize=(20,15))\n",
    "df_all.plot(ax=ax, column='mean_pm',legend=True, cmap='Reds')\n",
    "# legendChoro(title.txt='Particulate matter')\n",
    "plt.title('Distribution of Particulate matter in African continent');"
   ]
  },
  {
   "cell_type": "markdown",
   "id": "3a880bdd",
   "metadata": {},
   "source": [
    "## Q4 Which are the top 10 populous African countries ?"
   ]
  },
  {
   "cell_type": "markdown",
   "id": "a37ed2cf",
   "metadata": {},
   "source": [
    "### TOP 10 POPULOUS AFRICAN COUNTRIES"
   ]
  },
  {
   "cell_type": "code",
   "execution_count": 50,
   "id": "d8a0ccb9",
   "metadata": {},
   "outputs": [
    {
     "data": {
      "image/png": "[encoded data removed]",
      "text/plain": [
       "<Figure size 1440x360 with 1 Axes>"
      ]
     },
     "metadata": {
      "needs_background": "light"
     },
     "output_type": "display_data"
    }
   ],
   "source": [
    "### TOP 10 POPULOUS COUNTRIES\n",
    "fig, ax = plt.subplots(figsize=(20,5))\n",
    "df.query('country !=\"Global\"& year==2019 ').groupby('country')['population'].mean().sort_values(ascending=False).head(10).plot(kind='bar')\n",
    "plt.title('Top 10 populous countries in 2019')\n",
    "plt.ylabel('Population in 2019')\n",
    "plt.show();"
   ]
  },
  {
   "cell_type": "markdown",
   "id": "bf1d84a2",
   "metadata": {},
   "source": [
    "## Q5 What is the trend of Global total annual mortality ?"
   ]
  },
  {
   "cell_type": "markdown",
   "id": "4de9eb0c",
   "metadata": {},
   "source": [
    "#### PLOT A LINE GRAPH OF THE GLOBAL TOTAL DEATH TO SHOW THE TREND OF MORTALITY FROM 1990-2019"
   ]
  },
  {
   "cell_type": "code",
   "execution_count": 71,
   "id": "895d6601",
   "metadata": {
    "scrolled": true
   },
   "outputs": [
    {
     "data": {
      "image/png": "[encoded data removed]",
      "text/plain": [
       "<Figure size 1440x360 with 1 Axes>"
      ]
     },
     "metadata": {
      "needs_background": "light"
     },
     "output_type": "display_data"
    }
   ],
   "source": [
    "### A LINE GRAPH TO SHOW THE TREND OF GLOBAL MORTALITY \n",
    "fig, ax = plt.subplots(figsize=(20,5))\n",
    "sns.lineplot(data=df_global, x='year', y='total_deaths')\n",
    "plt.title ('Global trend of Mortality')\n",
    "plt.show()"
   ]
  },
  {
   "cell_type": "markdown",
   "id": "aa43fca0",
   "metadata": {},
   "source": [
    "## Q6 What is the relationship between a country population and mean particulate matter concentration"
   ]
  },
  {
   "cell_type": "markdown",
   "id": "2256f296",
   "metadata": {},
   "source": [
    "### PLOTTING AN UNSTACKED BAR-CHART OF THE MEAN PM CONCENTRATION AND THE POPULATION OF THE TOP 10 POPULOUS COUNTRIES IN 2019."
   ]
  },
  {
   "cell_type": "code",
   "execution_count": 52,
   "id": "41c5aab8",
   "metadata": {
    "scrolled": true
   },
   "outputs": [
    {
     "data": {
      "image/png": "[encoded data removed]",
      "text/plain": [
       "<Figure size 1440x360 with 2 Axes>"
      ]
     },
     "metadata": {
      "needs_background": "light"
     },
     "output_type": "display_data"
    }
   ],
   "source": [
    "## THE TOP 10 POPULOUS  COUNTRIES AND THEIR RESPECTIVE MEAN PM CONCENTRATION IN 2019\n",
    "fig, ax = plt.subplots(figsize=(20,5))\n",
    "df.query('country !=\"Global\"& year==2019 ').groupby('country')[['population', 'mean_pm']].mean().sort_values(by=['population'], ascending=False).head(10).plot(kind='bar', secondary_y='mean_pm', ax=ax)\n",
    "plt.title ('Top 10 populous countries and their respective mean PM concentration in 2019')\n",
    "plt.show();"
   ]
  },
  {
   "cell_type": "markdown",
   "id": "559fff30",
   "metadata": {},
   "source": [
    "### PM CONCENTRATION PER POPULATION OF EACH COUNTRY"
   ]
  },
  {
   "cell_type": "code",
   "execution_count": 53,
   "id": "63c506c5",
   "metadata": {},
   "outputs": [
    {
     "data": {
      "image/png": "[encoded data removed]",
      "text/plain": [
       "<Figure size 1440x360 with 1 Axes>"
      ]
     },
     "metadata": {
      "needs_background": "light"
     },
     "output_type": "display_data"
    }
   ],
   "source": [
    "## PM per population.\n",
    "\n",
    "df_ration=df.query('country !=\"Global\"& year==2019 ').groupby('country')[['population', 'mean_pm']].mean()\n",
    "\n",
    "fig, ax=plt.subplots(figsize=(20, 5))\n",
    "df_ratio=df_ration['mean_pm']/df_ration['population']\n",
    "df_ratio.sort_values(ascending=False).head(10).plot(kind='bar', ax=ax);"
   ]
  },
  {
   "cell_type": "markdown",
   "id": "95831851",
   "metadata": {},
   "source": [
    "### REMOVING EXTREME VALUES ie GLOBAL ENTERIES"
   ]
  },
  {
   "cell_type": "code",
   "execution_count": 54,
   "id": "da088515",
   "metadata": {},
   "outputs": [],
   "source": [
    "### Refined data , exclude global data \n",
    "\n",
    "df_1=df.query('country!=\"Global\"')"
   ]
  },
  {
   "cell_type": "markdown",
   "id": "ea60fe24",
   "metadata": {},
   "source": [
    "### CORRELATION BETWEEN POPULATION AND MEAN PM CONCENTRATION"
   ]
  },
  {
   "cell_type": "code",
   "execution_count": 62,
   "id": "60f8fd11",
   "metadata": {},
   "outputs": [
    {
     "data": {
      "image/png": "[encoded data removed]",
      "text/plain": [
       "<Figure size 1440x360 with 1 Axes>"
      ]
     },
     "metadata": {
      "needs_background": "light"
     },
     "output_type": "display_data"
    }
   ],
   "source": [
    "fig, ax = plt.subplots(figsize=(20,5))\n",
    "sns.scatterplot(x='mean_pm', y=df_1.population, data=df_1)\n",
    "plt.show();"
   ]
  },
  {
   "cell_type": "code",
   "execution_count": 56,
   "id": "d2f338bd",
   "metadata": {},
   "outputs": [
    {
     "data": {
      "text/plain": [
       "0.11714791624634706"
      ]
     },
     "execution_count": 56,
     "metadata": {},
     "output_type": "execute_result"
    }
   ],
   "source": [
    "## CORRELATION COEFFICIENT\n",
    "coef= df.mean_pm.corr(df_1.population)\n",
    "coef"
   ]
  },
  {
   "cell_type": "markdown",
   "id": "02189754",
   "metadata": {},
   "source": [
    "## Q7 What is the relationship between a country mean particulate matter concentration and total mortality?"
   ]
  },
  {
   "cell_type": "markdown",
   "id": "50bf890f",
   "metadata": {},
   "source": [
    "### TOP 10 AFRICAN COUNTRIES HIGHEST MEAN PM VALUE AND TOTAL DEATHS"
   ]
  },
  {
   "cell_type": "code",
   "execution_count": 58,
   "id": "af04e7dc",
   "metadata": {},
   "outputs": [
    {
     "data": {
      "image/png": "[encoded data removed]",
      "text/plain": [
       "<Figure size 1440x360 with 2 Axes>"
      ]
     },
     "metadata": {
      "needs_background": "light"
     },
     "output_type": "display_data"
    }
   ],
   "source": [
    "fig, ax = plt.subplots(figsize=(20,5))\n",
    "df.query('country !=\"Global\"& year==2019 ').groupby('country')[['total_deaths', 'mean_pm']].mean().sort_values(by=['mean_pm'], ascending=False).head(10).plot(kind='bar', secondary_y='total_deaths', ax=ax)\n",
    "plt.title ('Top 10 countries with the highest mean PM and their respective mortality')\n",
    "plt.show();"
   ]
  },
  {
   "cell_type": "markdown",
   "id": "81e68072",
   "metadata": {},
   "source": [
    "### CORRELATION BETWEEN MEAN PM CONCENTRATION AND TOTAL MORTALITY "
   ]
  },
  {
   "cell_type": "code",
   "execution_count": 60,
   "id": "d0cb39b6",
   "metadata": {
    "scrolled": false
   },
   "outputs": [
    {
     "data": {
      "image/png": "[encoded data removed]",
      "text/plain": [
       "<Figure size 1440x360 with 1 Axes>"
      ]
     },
     "metadata": {
      "needs_background": "light"
     },
     "output_type": "display_data"
    }
   ],
   "source": [
    "fig, ax = plt.subplots(figsize=(20,5))\n",
    "sns.scatterplot(x='mean_pm', y=df_1.total_deaths, data=df_1)\n",
    "plt.title (\" Relationship between mean particulate matter and mortality\")\n",
    "plt.show();"
   ]
  },
  {
   "cell_type": "code",
   "execution_count": null,
   "id": "4e50a45f",
   "metadata": {},
   "outputs": [],
   "source": [
    "coef=df_1.mean_pm.corr(df_1.total_deaths)\n",
    "coef\n",
    "### THIS GIVES AN EVEN HIGHER CORRELATION COMPARED TO WHEN YOU USE THE LOG TRANSFORMED DATA"
   ]
  },
  {
   "cell_type": "markdown",
   "id": "7695f106",
   "metadata": {},
   "source": [
    "### A HEATMAP SHOWING THE RELATIONSHIP BETWEEN ALL THE VARIABLES"
   ]
  },
  {
   "cell_type": "code",
   "execution_count": 63,
   "id": "9f9367e8",
   "metadata": {
    "scrolled": true
   },
   "outputs": [
    {
     "data": {
      "text/html": [
       "<div>\n",
       "<style scoped>\n",
       "    .dataframe tbody tr th:only-of-type {\n",
       "        vertical-align: middle;\n",
       "    }\n",
       "\n",
       "    .dataframe tbody tr th {\n",
       "        vertical-align: top;\n",
       "    }\n",
       "\n",
       "    .dataframe thead th {\n",
       "        text-align: right;\n",
       "    }\n",
       "</style>\n",
       "<table border=\"1\" class=\"dataframe\">\n",
       "  <thead>\n",
       "    <tr style=\"text-align: right;\">\n",
       "      <th></th>\n",
       "      <th>mean_pm</th>\n",
       "      <th>population</th>\n",
       "      <th>total_deaths</th>\n",
       "    </tr>\n",
       "  </thead>\n",
       "  <tbody>\n",
       "    <tr>\n",
       "      <th>mean_pm</th>\n",
       "      <td>1.000000</td>\n",
       "      <td>0.027554</td>\n",
       "      <td>0.028216</td>\n",
       "    </tr>\n",
       "    <tr>\n",
       "      <th>population</th>\n",
       "      <td>0.027554</td>\n",
       "      <td>1.000000</td>\n",
       "      <td>0.998053</td>\n",
       "    </tr>\n",
       "    <tr>\n",
       "      <th>total_deaths</th>\n",
       "      <td>0.028216</td>\n",
       "      <td>0.998053</td>\n",
       "      <td>1.000000</td>\n",
       "    </tr>\n",
       "  </tbody>\n",
       "</table>\n",
       "</div>"
      ],
      "text/plain": [
       "               mean_pm  population  total_deaths\n",
       "mean_pm       1.000000    0.027554      0.028216\n",
       "population    0.027554    1.000000      0.998053\n",
       "total_deaths  0.028216    0.998053      1.000000"
      ]
     },
     "execution_count": 63,
     "metadata": {},
     "output_type": "execute_result"
    }
   ],
   "source": [
    "## SELECTING COLUMNS THAT HAVE FLOAT VALUES\n",
    "\n",
    "heat_map=df.select_dtypes('float').corr()\n",
    "heat_map"
   ]
  },
  {
   "cell_type": "code",
   "execution_count": 64,
   "id": "639f35cc",
   "metadata": {
    "scrolled": true
   },
   "outputs": [
    {
     "data": {
      "image/png": "[encoded data removed]",
      "text/plain": [
       "<Figure size 432x288 with 2 Axes>"
      ]
     },
     "metadata": {
      "needs_background": "light"
     },
     "output_type": "display_data"
    }
   ],
   "source": [
    "sns.heatmap(heat_map);"
   ]
  },
  {
   "cell_type": "markdown",
   "id": "6ce33903",
   "metadata": {},
   "source": [
    "## WORD CLOUD OF HEALTH EFFECTS OF AIR POLLUTION"
   ]
  },
  {
   "cell_type": "code",
   "execution_count": 70,
   "id": "2668f89e",
   "metadata": {},
   "outputs": [
    {
     "data": {
      "image/png": "[encoded data removed]",
      "text/plain": [
       "<Figure size 432x288 with 1 Axes>"
      ]
     },
     "metadata": {
      "needs_background": "light"
     },
     "output_type": "display_data"
    }
   ],
   "source": [
    "from wordcloud import WordCloud\n",
    "words= ('heartdisease heartattack stroke lowerrespiratoryinfections lungcancer diabetes COPD hypertension mortality atherosclerosis highbloodpressure hospitaladmission death CVA ')\n",
    "## CREATING A BAG OF WORDS\n",
    "words.split(\" \")\n",
    "### CREATING A WORDCLOUD INSTANCE\n",
    "word_cloud = WordCloud(collocations = False, background_color = 'black').generate(words)\n",
    "# Display the generated Word Cloud\n",
    "plt.imshow(word_cloud, interpolation='bilinear')\n",
    "plt.axis(\"off\")\n",
    "plt.show()"
   ]
  },
  {
   "cell_type": "markdown",
   "id": "92ce75c3",
   "metadata": {},
   "source": [
    "### The North and West African countries tend to have the highest mean PM concentration compared to the South "
   ]
  },
  {
   "cell_type": "markdown",
   "id": "051229a2",
   "metadata": {},
   "source": [
    "# CONCLUSION "
   ]
  },
  {
   "cell_type": "markdown",
   "id": "29e31c14",
   "metadata": {
    "scrolled": true
   },
   "source": [
    "> **Q1:** The global trend of PM concentration seems to be on a steady rise since the 1990s, there was a however a sharp rise starting in 2010  and peaking in 2013-2014, then it begun to decline again to a new baseline in 2017.  Generally there is a progressive increase in the amount of particulate matter generated globally over the years despite the recent policies and call to action on air pollution and climate change in general. \n",
    "\n",
    "> **Q2:** Unlike the trend seen with the global PM concentration, when it comes to Ghana, there seems not to be a well defined pattern, but from the chart, there is a peak in 2000 and again in the 2016. \n",
    "\n",
    "> But comparing the mean PM concentration in Ghana with the global values, it is higher in Ghana. That is the case in most developing countries. One possible explanation is the lack of clean energy, most people use fire wood and its derivatives in cooking, bushfires are rappant, traffic pollution is through the roof as most vehicles on the road are not roadworthy. \n",
    "\n",
    "> **Q3:** Niger has the highest mean PM concentration in Africa followed by Nigeria, the rest as shown by the chart. As shown on the choropleth map, West and North African countries tend to have some of the highest mean PM concentration in Africa.\n",
    "\n",
    "> **Q4:** Nigeria is by far the most populated country in Africa, followed by Ethiopia and the rest as depicted by the chart. \n",
    "\n",
    "> **Q5:** The global mortality from the chart tend to have a sigmoid pattern, but generally there is an  upward trend, this is not surprising as the global population continue to rise, there will be a corresponding increase in mortality, the Malthusian theory is true to some extend [link](https://study.com/learn/lesson/malthusian-theory-of-population-growth-summary-importance.html)\n",
    "\n",
    "> **Q6:** There seems to be a weak correlation (correlation coefficient of 0.12) between the population of a country and its mean PM concentration, as can be seen from the mean PM concentration per population chart,  Sao Tome and Principe tend to have some of the highest density of PM per population, despite its small population.\n",
    "\n",
    ">**Q7:** There is a weak correlation (correlation coefficient of 0.42) between the mean PM concentration of a country and the total mortality. \n"
   ]
  },
  {
   "cell_type": "markdown",
   "id": "88ecd1f1",
   "metadata": {},
   "source": []
  }
 ],
 "metadata": {
  "kernelspec": {
   "display_name": "Python 3 (ipykernel)",
   "language": "python",
   "name": "python3"
  },
  "language_info": {
   "codemirror_mode": {
    "name": "ipython",
    "version": 3
   },
   "file_extension": ".py",
   "mimetype": "text/x-python",
   "name": "python",
   "nbconvert_exporter": "python",
   "pygments_lexer": "ipython3",
   "version": "3.9.7"
  }
 },
 "nbformat": 4,
 "nbformat_minor": 5
}
